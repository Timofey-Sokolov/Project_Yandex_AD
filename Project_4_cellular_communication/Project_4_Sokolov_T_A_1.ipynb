{
 "cells": [
  {
   "cell_type": "markdown",
   "id": "31f59f59",
   "metadata": {},
   "source": [
    "Знакомство с проектной работой\n",
    "Познакомьтесь с проектом, который вам предстоит выполнить после этого курса.\n",
    "Описание проекта\n",
    "\n",
    "Вы аналитик компании «Мегалайн» — федерального оператора сотовой связи. Клиентам предлагают два тарифных плана: «Смарт» и «Ультра». Чтобы скорректировать рекламный бюджет, коммерческий департамент хочет понять, какой тариф приносит больше денег.\n",
    "Вам предстоит сделать предварительный анализ тарифов на небольшой выборке клиентов. В вашем распоряжении данные 500 пользователей «Мегалайна»: кто они, откуда, каким тарифом пользуются, сколько звонков и сообщений каждый отправил за 2018 год. Нужно проанализировать поведение клиентов и сделать вывод — какой тариф лучше.\n",
    "\n",
    "\n",
    "Примечание:\n",
    "«Мегалайн» всегда округляет секунды до минут, а мегабайты — до гигабайт. Каждый звонок округляется отдельно: даже если он длился всего 1 секунду, будет засчитан как 1 минута.\n",
    "Для веб-трафика отдельные сессии не считаются. Вместо этого общая сумма за месяц округляется в бо́льшую сторону. Если абонент использует 1025 мегабайт в этом месяце, с него возьмут плату за 2 гигабайта.\n",
    "Инструкция по выполнению проекта\n",
    "\n",
    "Шаг 1. Откройте файл с данными и изучите общую информацию\n",
    "Путь к файлам:\n",
    "/datasets/calls.csv. Скачать датасет\n",
    "/datasets/internet.csv. Скачать датасет\n",
    "/datasets/messages.csv. Скачать датасет\n",
    "/datasets/tariffs.csv. Скачать датасет\n",
    "/datasets/users.csv. Скачать датасет\n",
    "\n",
    "Шаг 2. Подготовьте данные\n",
    "* Приведите данные к нужным типам;\n",
    "* Найдите и исправьте ошибки в данных, если они есть.\n",
    "* Поясните, какие ошибки вы нашли и как их исправили. В данных вы найдёте звонки с нулевой продолжительностью. Это не ошибка: нулями обозначены пропущенные звонки, поэтому их не нужно удалять.\n",
    "\n",
    "\n"
   ]
  },
  {
   "cell_type": "markdown",
   "id": "6768043b",
   "metadata": {},
   "source": [
    "Задача: \n",
    "\n",
    "Подготовить данные для дальнейшего анализа. По данным выборки оператора сотовой связи сделать анализ тарифов. Проверить гипотезы, указанные в ТЗ."
   ]
  },
  {
   "cell_type": "markdown",
   "id": "b4bf6f2b",
   "metadata": {},
   "source": [
    "Загружаем библиотеки, устанавливаем настройку для таблицы, загружаем файлы."
   ]
  },
  {
   "cell_type": "code",
   "execution_count": 1,
   "id": "6cf4b217",
   "metadata": {},
   "outputs": [],
   "source": [
    "import pandas as pd\n",
    "import matplotlib.pyplot as plt\n",
    "import numpy as np\n",
    "import seaborn as sns\n",
    "import scipy.stats\n",
    "\n",
    "%config InlineBackend.figure_format='retina'\n",
    "%matplotlib inline"
   ]
  },
  {
   "cell_type": "code",
   "execution_count": 2,
   "id": "2a6e6286",
   "metadata": {},
   "outputs": [],
   "source": [
    "pd.options.display.max_columns = None\n",
    "pd.options.display.max_rows = None"
   ]
  },
  {
   "cell_type": "code",
   "execution_count": 3,
   "id": "8bcc8a75",
   "metadata": {},
   "outputs": [],
   "source": [
    "try:\n",
    "    df_calls = pd.read_csv(r'C:\\Users\\Иванов\\calls.csv')\n",
    "except:\n",
    "    df_calls = pd.read_csv('/datasets/calls.csv')"
   ]
  },
  {
   "cell_type": "code",
   "execution_count": 4,
   "id": "93f64d10",
   "metadata": {},
   "outputs": [
    {
     "data": {
      "text/html": [
       "<div>\n",
       "<style scoped>\n",
       "    .dataframe tbody tr th:only-of-type {\n",
       "        vertical-align: middle;\n",
       "    }\n",
       "\n",
       "    .dataframe tbody tr th {\n",
       "        vertical-align: top;\n",
       "    }\n",
       "\n",
       "    .dataframe thead th {\n",
       "        text-align: right;\n",
       "    }\n",
       "</style>\n",
       "<table border=\"1\" class=\"dataframe\">\n",
       "  <thead>\n",
       "    <tr style=\"text-align: right;\">\n",
       "      <th></th>\n",
       "      <th>id</th>\n",
       "      <th>call_date</th>\n",
       "      <th>duration</th>\n",
       "      <th>user_id</th>\n",
       "    </tr>\n",
       "  </thead>\n",
       "  <tbody>\n",
       "    <tr>\n",
       "      <th>0</th>\n",
       "      <td>1000_0</td>\n",
       "      <td>2018-07-25</td>\n",
       "      <td>0.00</td>\n",
       "      <td>1000</td>\n",
       "    </tr>\n",
       "    <tr>\n",
       "      <th>1</th>\n",
       "      <td>1000_1</td>\n",
       "      <td>2018-08-17</td>\n",
       "      <td>0.00</td>\n",
       "      <td>1000</td>\n",
       "    </tr>\n",
       "    <tr>\n",
       "      <th>2</th>\n",
       "      <td>1000_2</td>\n",
       "      <td>2018-06-11</td>\n",
       "      <td>2.85</td>\n",
       "      <td>1000</td>\n",
       "    </tr>\n",
       "    <tr>\n",
       "      <th>3</th>\n",
       "      <td>1000_3</td>\n",
       "      <td>2018-09-21</td>\n",
       "      <td>13.80</td>\n",
       "      <td>1000</td>\n",
       "    </tr>\n",
       "    <tr>\n",
       "      <th>4</th>\n",
       "      <td>1000_4</td>\n",
       "      <td>2018-12-15</td>\n",
       "      <td>5.18</td>\n",
       "      <td>1000</td>\n",
       "    </tr>\n",
       "  </tbody>\n",
       "</table>\n",
       "</div>"
      ],
      "text/plain": [
       "       id   call_date  duration  user_id\n",
       "0  1000_0  2018-07-25      0.00     1000\n",
       "1  1000_1  2018-08-17      0.00     1000\n",
       "2  1000_2  2018-06-11      2.85     1000\n",
       "3  1000_3  2018-09-21     13.80     1000\n",
       "4  1000_4  2018-12-15      5.18     1000"
      ]
     },
     "metadata": {},
     "output_type": "display_data"
    }
   ],
   "source": [
    "display(df_calls.head())"
   ]
  },
  {
   "cell_type": "markdown",
   "id": "821eb463",
   "metadata": {},
   "source": [
    "Таблица calls (информация о звонках):\n",
    "* id — уникальный номер звонка\n",
    "* call_date — дата звонка\n",
    "* duration — длительность звонка в минутах\n",
    "* user_id — идентификатор пользователя, сделавшего звонок"
   ]
  },
  {
   "cell_type": "code",
   "execution_count": 5,
   "id": "617be22d",
   "metadata": {},
   "outputs": [
    {
     "data": {
      "text/html": [
       "<div>\n",
       "<style scoped>\n",
       "    .dataframe tbody tr th:only-of-type {\n",
       "        vertical-align: middle;\n",
       "    }\n",
       "\n",
       "    .dataframe tbody tr th {\n",
       "        vertical-align: top;\n",
       "    }\n",
       "\n",
       "    .dataframe thead th {\n",
       "        text-align: right;\n",
       "    }\n",
       "</style>\n",
       "<table border=\"1\" class=\"dataframe\">\n",
       "  <thead>\n",
       "    <tr style=\"text-align: right;\">\n",
       "      <th></th>\n",
       "      <th>duration</th>\n",
       "      <th>user_id</th>\n",
       "    </tr>\n",
       "  </thead>\n",
       "  <tbody>\n",
       "    <tr>\n",
       "      <th>count</th>\n",
       "      <td>202607.000000</td>\n",
       "      <td>202607.000000</td>\n",
       "    </tr>\n",
       "    <tr>\n",
       "      <th>mean</th>\n",
       "      <td>6.755887</td>\n",
       "      <td>1253.940619</td>\n",
       "    </tr>\n",
       "    <tr>\n",
       "      <th>std</th>\n",
       "      <td>5.843365</td>\n",
       "      <td>144.722751</td>\n",
       "    </tr>\n",
       "    <tr>\n",
       "      <th>min</th>\n",
       "      <td>0.000000</td>\n",
       "      <td>1000.000000</td>\n",
       "    </tr>\n",
       "    <tr>\n",
       "      <th>25%</th>\n",
       "      <td>1.300000</td>\n",
       "      <td>1126.000000</td>\n",
       "    </tr>\n",
       "    <tr>\n",
       "      <th>50%</th>\n",
       "      <td>6.000000</td>\n",
       "      <td>1260.000000</td>\n",
       "    </tr>\n",
       "    <tr>\n",
       "      <th>75%</th>\n",
       "      <td>10.700000</td>\n",
       "      <td>1379.000000</td>\n",
       "    </tr>\n",
       "    <tr>\n",
       "      <th>max</th>\n",
       "      <td>38.000000</td>\n",
       "      <td>1499.000000</td>\n",
       "    </tr>\n",
       "  </tbody>\n",
       "</table>\n",
       "</div>"
      ],
      "text/plain": [
       "            duration        user_id\n",
       "count  202607.000000  202607.000000\n",
       "mean        6.755887    1253.940619\n",
       "std         5.843365     144.722751\n",
       "min         0.000000    1000.000000\n",
       "25%         1.300000    1126.000000\n",
       "50%         6.000000    1260.000000\n",
       "75%        10.700000    1379.000000\n",
       "max        38.000000    1499.000000"
      ]
     },
     "execution_count": 5,
     "metadata": {},
     "output_type": "execute_result"
    }
   ],
   "source": [
    "df_calls.describe()"
   ]
  },
  {
   "cell_type": "code",
   "execution_count": 6,
   "id": "4121c4ff",
   "metadata": {},
   "outputs": [
    {
     "name": "stdout",
     "output_type": "stream",
     "text": [
      "<class 'pandas.core.frame.DataFrame'>\n",
      "RangeIndex: 202607 entries, 0 to 202606\n",
      "Data columns (total 4 columns):\n",
      " #   Column     Non-Null Count   Dtype  \n",
      "---  ------     --------------   -----  \n",
      " 0   id         202607 non-null  object \n",
      " 1   call_date  202607 non-null  object \n",
      " 2   duration   202607 non-null  float64\n",
      " 3   user_id    202607 non-null  int64  \n",
      "dtypes: float64(1), int64(1), object(2)\n",
      "memory usage: 6.2+ MB\n"
     ]
    }
   ],
   "source": [
    "df_calls.info()"
   ]
  },
  {
   "cell_type": "code",
   "execution_count": 7,
   "id": "4578d1b8",
   "metadata": {},
   "outputs": [],
   "source": [
    "df_calls['call_date'] = pd.to_datetime(df_calls['call_date'], format = '%Y-%m-%d')\n",
    "df_calls['month'] = df_calls['call_date'].dt.month"
   ]
  },
  {
   "cell_type": "code",
   "execution_count": 8,
   "id": "064a0c07",
   "metadata": {},
   "outputs": [],
   "source": [
    "df_calls['duration'] = np.ceil(df_calls['duration']).astype(int)"
   ]
  },
  {
   "cell_type": "markdown",
   "id": "6fb34e16",
   "metadata": {},
   "source": [
    "Пропусков нет.\n",
    "\n",
    "Меняем формат даты. Выделяем в отдельный столбец месяц, это нужно будет для дальнейшего анализа. \n",
    "\n",
    "Округляем длительность звонков в большую сторону (по условиям тарифов), меняем тип данных."
   ]
  },
  {
   "cell_type": "code",
   "execution_count": 9,
   "id": "a18771c1",
   "metadata": {},
   "outputs": [],
   "source": [
    "try:\n",
    "    internet_df = pd.read_csv(r'C:\\Users\\Иванов\\internet.csv',sep=',')\n",
    "except:\n",
    "    internet_df = pd.read_csv('/datasets/internet.csv',sep=',')"
   ]
  },
  {
   "cell_type": "code",
   "execution_count": 10,
   "id": "32aab572",
   "metadata": {},
   "outputs": [
    {
     "data": {
      "text/html": [
       "<div>\n",
       "<style scoped>\n",
       "    .dataframe tbody tr th:only-of-type {\n",
       "        vertical-align: middle;\n",
       "    }\n",
       "\n",
       "    .dataframe tbody tr th {\n",
       "        vertical-align: top;\n",
       "    }\n",
       "\n",
       "    .dataframe thead th {\n",
       "        text-align: right;\n",
       "    }\n",
       "</style>\n",
       "<table border=\"1\" class=\"dataframe\">\n",
       "  <thead>\n",
       "    <tr style=\"text-align: right;\">\n",
       "      <th></th>\n",
       "      <th>Unnamed: 0</th>\n",
       "      <th>id</th>\n",
       "      <th>mb_used</th>\n",
       "      <th>session_date</th>\n",
       "      <th>user_id</th>\n",
       "    </tr>\n",
       "  </thead>\n",
       "  <tbody>\n",
       "    <tr>\n",
       "      <th>0</th>\n",
       "      <td>0</td>\n",
       "      <td>1000_0</td>\n",
       "      <td>112.95</td>\n",
       "      <td>2018-11-25</td>\n",
       "      <td>1000</td>\n",
       "    </tr>\n",
       "    <tr>\n",
       "      <th>1</th>\n",
       "      <td>1</td>\n",
       "      <td>1000_1</td>\n",
       "      <td>1052.81</td>\n",
       "      <td>2018-09-07</td>\n",
       "      <td>1000</td>\n",
       "    </tr>\n",
       "    <tr>\n",
       "      <th>2</th>\n",
       "      <td>2</td>\n",
       "      <td>1000_2</td>\n",
       "      <td>1197.26</td>\n",
       "      <td>2018-06-25</td>\n",
       "      <td>1000</td>\n",
       "    </tr>\n",
       "    <tr>\n",
       "      <th>3</th>\n",
       "      <td>3</td>\n",
       "      <td>1000_3</td>\n",
       "      <td>550.27</td>\n",
       "      <td>2018-08-22</td>\n",
       "      <td>1000</td>\n",
       "    </tr>\n",
       "    <tr>\n",
       "      <th>4</th>\n",
       "      <td>4</td>\n",
       "      <td>1000_4</td>\n",
       "      <td>302.56</td>\n",
       "      <td>2018-09-24</td>\n",
       "      <td>1000</td>\n",
       "    </tr>\n",
       "  </tbody>\n",
       "</table>\n",
       "</div>"
      ],
      "text/plain": [
       "   Unnamed: 0      id  mb_used session_date  user_id\n",
       "0           0  1000_0   112.95   2018-11-25     1000\n",
       "1           1  1000_1  1052.81   2018-09-07     1000\n",
       "2           2  1000_2  1197.26   2018-06-25     1000\n",
       "3           3  1000_3   550.27   2018-08-22     1000\n",
       "4           4  1000_4   302.56   2018-09-24     1000"
      ]
     },
     "metadata": {},
     "output_type": "display_data"
    }
   ],
   "source": [
    "display(internet_df.head())"
   ]
  },
  {
   "cell_type": "markdown",
   "id": "18e68c2f",
   "metadata": {},
   "source": [
    "Таблица internet (информация об интернет-сессиях):\n",
    "* id — уникальный номер сессии\n",
    "* mb_used — объём потраченного за сессию интернет-трафика (в мегабайтах)\n",
    "* session_date — дата интернет-сессии\n",
    "* user_id — идентификатор пользователя"
   ]
  },
  {
   "cell_type": "code",
   "execution_count": 11,
   "id": "ead7458c",
   "metadata": {},
   "outputs": [
    {
     "data": {
      "text/html": [
       "<div>\n",
       "<style scoped>\n",
       "    .dataframe tbody tr th:only-of-type {\n",
       "        vertical-align: middle;\n",
       "    }\n",
       "\n",
       "    .dataframe tbody tr th {\n",
       "        vertical-align: top;\n",
       "    }\n",
       "\n",
       "    .dataframe thead th {\n",
       "        text-align: right;\n",
       "    }\n",
       "</style>\n",
       "<table border=\"1\" class=\"dataframe\">\n",
       "  <thead>\n",
       "    <tr style=\"text-align: right;\">\n",
       "      <th></th>\n",
       "      <th>Unnamed: 0</th>\n",
       "      <th>mb_used</th>\n",
       "      <th>user_id</th>\n",
       "    </tr>\n",
       "  </thead>\n",
       "  <tbody>\n",
       "    <tr>\n",
       "      <th>count</th>\n",
       "      <td>149396.000000</td>\n",
       "      <td>149396.000000</td>\n",
       "      <td>149396.000000</td>\n",
       "    </tr>\n",
       "    <tr>\n",
       "      <th>mean</th>\n",
       "      <td>74697.500000</td>\n",
       "      <td>370.192426</td>\n",
       "      <td>1252.099842</td>\n",
       "    </tr>\n",
       "    <tr>\n",
       "      <th>std</th>\n",
       "      <td>43127.054745</td>\n",
       "      <td>278.300951</td>\n",
       "      <td>144.050823</td>\n",
       "    </tr>\n",
       "    <tr>\n",
       "      <th>min</th>\n",
       "      <td>0.000000</td>\n",
       "      <td>0.000000</td>\n",
       "      <td>1000.000000</td>\n",
       "    </tr>\n",
       "    <tr>\n",
       "      <th>25%</th>\n",
       "      <td>37348.750000</td>\n",
       "      <td>138.187500</td>\n",
       "      <td>1130.000000</td>\n",
       "    </tr>\n",
       "    <tr>\n",
       "      <th>50%</th>\n",
       "      <td>74697.500000</td>\n",
       "      <td>348.015000</td>\n",
       "      <td>1251.000000</td>\n",
       "    </tr>\n",
       "    <tr>\n",
       "      <th>75%</th>\n",
       "      <td>112046.250000</td>\n",
       "      <td>559.552500</td>\n",
       "      <td>1380.000000</td>\n",
       "    </tr>\n",
       "    <tr>\n",
       "      <th>max</th>\n",
       "      <td>149395.000000</td>\n",
       "      <td>1724.830000</td>\n",
       "      <td>1499.000000</td>\n",
       "    </tr>\n",
       "  </tbody>\n",
       "</table>\n",
       "</div>"
      ],
      "text/plain": [
       "          Unnamed: 0        mb_used        user_id\n",
       "count  149396.000000  149396.000000  149396.000000\n",
       "mean    74697.500000     370.192426    1252.099842\n",
       "std     43127.054745     278.300951     144.050823\n",
       "min         0.000000       0.000000    1000.000000\n",
       "25%     37348.750000     138.187500    1130.000000\n",
       "50%     74697.500000     348.015000    1251.000000\n",
       "75%    112046.250000     559.552500    1380.000000\n",
       "max    149395.000000    1724.830000    1499.000000"
      ]
     },
     "execution_count": 11,
     "metadata": {},
     "output_type": "execute_result"
    }
   ],
   "source": [
    "internet_df.describe()"
   ]
  },
  {
   "cell_type": "code",
   "execution_count": 12,
   "id": "ba0cff03",
   "metadata": {},
   "outputs": [
    {
     "name": "stdout",
     "output_type": "stream",
     "text": [
      "<class 'pandas.core.frame.DataFrame'>\n",
      "RangeIndex: 149396 entries, 0 to 149395\n",
      "Data columns (total 5 columns):\n",
      " #   Column        Non-Null Count   Dtype  \n",
      "---  ------        --------------   -----  \n",
      " 0   Unnamed: 0    149396 non-null  int64  \n",
      " 1   id            149396 non-null  object \n",
      " 2   mb_used       149396 non-null  float64\n",
      " 3   session_date  149396 non-null  object \n",
      " 4   user_id       149396 non-null  int64  \n",
      "dtypes: float64(1), int64(2), object(2)\n",
      "memory usage: 5.7+ MB\n"
     ]
    }
   ],
   "source": [
    "internet_df.info()"
   ]
  },
  {
   "cell_type": "code",
   "execution_count": 13,
   "id": "06fb496e",
   "metadata": {},
   "outputs": [],
   "source": [
    "internet_df['session_date'] = pd.to_datetime(internet_df['session_date'], format = '%Y-%m-%d')\n",
    "internet_df['month'] = internet_df['session_date'].dt.month"
   ]
  },
  {
   "cell_type": "markdown",
   "id": "db8e36c3",
   "metadata": {},
   "source": [
    "Пропусков нет.\n",
    "\n",
    "Меняем формат даты. \n",
    "\n",
    "Выделяем в отдельный столбец месяц."
   ]
  },
  {
   "cell_type": "code",
   "execution_count": 14,
   "id": "a824038e",
   "metadata": {},
   "outputs": [],
   "source": [
    "try:\n",
    "    messages_df = pd.read_csv(r'C:\\Users\\Иванов\\messages.csv', sep=',')\n",
    "except:\n",
    "    messages_df = pd.read_csv('/datasets/messages.csv', sep=',')"
   ]
  },
  {
   "cell_type": "code",
   "execution_count": 15,
   "id": "77df46d4",
   "metadata": {},
   "outputs": [
    {
     "data": {
      "text/html": [
       "<div>\n",
       "<style scoped>\n",
       "    .dataframe tbody tr th:only-of-type {\n",
       "        vertical-align: middle;\n",
       "    }\n",
       "\n",
       "    .dataframe tbody tr th {\n",
       "        vertical-align: top;\n",
       "    }\n",
       "\n",
       "    .dataframe thead th {\n",
       "        text-align: right;\n",
       "    }\n",
       "</style>\n",
       "<table border=\"1\" class=\"dataframe\">\n",
       "  <thead>\n",
       "    <tr style=\"text-align: right;\">\n",
       "      <th></th>\n",
       "      <th>id</th>\n",
       "      <th>message_date</th>\n",
       "      <th>user_id</th>\n",
       "    </tr>\n",
       "  </thead>\n",
       "  <tbody>\n",
       "    <tr>\n",
       "      <th>0</th>\n",
       "      <td>1000_0</td>\n",
       "      <td>2018-06-27</td>\n",
       "      <td>1000</td>\n",
       "    </tr>\n",
       "    <tr>\n",
       "      <th>1</th>\n",
       "      <td>1000_1</td>\n",
       "      <td>2018-10-08</td>\n",
       "      <td>1000</td>\n",
       "    </tr>\n",
       "    <tr>\n",
       "      <th>2</th>\n",
       "      <td>1000_2</td>\n",
       "      <td>2018-08-04</td>\n",
       "      <td>1000</td>\n",
       "    </tr>\n",
       "    <tr>\n",
       "      <th>3</th>\n",
       "      <td>1000_3</td>\n",
       "      <td>2018-06-16</td>\n",
       "      <td>1000</td>\n",
       "    </tr>\n",
       "    <tr>\n",
       "      <th>4</th>\n",
       "      <td>1000_4</td>\n",
       "      <td>2018-12-05</td>\n",
       "      <td>1000</td>\n",
       "    </tr>\n",
       "  </tbody>\n",
       "</table>\n",
       "</div>"
      ],
      "text/plain": [
       "       id message_date  user_id\n",
       "0  1000_0   2018-06-27     1000\n",
       "1  1000_1   2018-10-08     1000\n",
       "2  1000_2   2018-08-04     1000\n",
       "3  1000_3   2018-06-16     1000\n",
       "4  1000_4   2018-12-05     1000"
      ]
     },
     "metadata": {},
     "output_type": "display_data"
    }
   ],
   "source": [
    "display(messages_df.head())"
   ]
  },
  {
   "cell_type": "markdown",
   "id": "bf47ab7f",
   "metadata": {},
   "source": [
    "Таблица messages (информация о сообщениях):\n",
    "* id — уникальный номер сообщения\n",
    "* message_date — дата сообщения\n",
    "* user_id — идентификатор пользователя, отправившего сообщение"
   ]
  },
  {
   "cell_type": "code",
   "execution_count": 16,
   "id": "46b6923d",
   "metadata": {},
   "outputs": [
    {
     "data": {
      "text/html": [
       "<div>\n",
       "<style scoped>\n",
       "    .dataframe tbody tr th:only-of-type {\n",
       "        vertical-align: middle;\n",
       "    }\n",
       "\n",
       "    .dataframe tbody tr th {\n",
       "        vertical-align: top;\n",
       "    }\n",
       "\n",
       "    .dataframe thead th {\n",
       "        text-align: right;\n",
       "    }\n",
       "</style>\n",
       "<table border=\"1\" class=\"dataframe\">\n",
       "  <thead>\n",
       "    <tr style=\"text-align: right;\">\n",
       "      <th></th>\n",
       "      <th>user_id</th>\n",
       "    </tr>\n",
       "  </thead>\n",
       "  <tbody>\n",
       "    <tr>\n",
       "      <th>count</th>\n",
       "      <td>123036.000000</td>\n",
       "    </tr>\n",
       "    <tr>\n",
       "      <th>mean</th>\n",
       "      <td>1256.989410</td>\n",
       "    </tr>\n",
       "    <tr>\n",
       "      <th>std</th>\n",
       "      <td>143.523967</td>\n",
       "    </tr>\n",
       "    <tr>\n",
       "      <th>min</th>\n",
       "      <td>1000.000000</td>\n",
       "    </tr>\n",
       "    <tr>\n",
       "      <th>25%</th>\n",
       "      <td>1134.000000</td>\n",
       "    </tr>\n",
       "    <tr>\n",
       "      <th>50%</th>\n",
       "      <td>1271.000000</td>\n",
       "    </tr>\n",
       "    <tr>\n",
       "      <th>75%</th>\n",
       "      <td>1381.000000</td>\n",
       "    </tr>\n",
       "    <tr>\n",
       "      <th>max</th>\n",
       "      <td>1499.000000</td>\n",
       "    </tr>\n",
       "  </tbody>\n",
       "</table>\n",
       "</div>"
      ],
      "text/plain": [
       "             user_id\n",
       "count  123036.000000\n",
       "mean     1256.989410\n",
       "std       143.523967\n",
       "min      1000.000000\n",
       "25%      1134.000000\n",
       "50%      1271.000000\n",
       "75%      1381.000000\n",
       "max      1499.000000"
      ]
     },
     "execution_count": 16,
     "metadata": {},
     "output_type": "execute_result"
    }
   ],
   "source": [
    "messages_df.describe()"
   ]
  },
  {
   "cell_type": "code",
   "execution_count": 17,
   "id": "03b782b4",
   "metadata": {},
   "outputs": [
    {
     "name": "stdout",
     "output_type": "stream",
     "text": [
      "<class 'pandas.core.frame.DataFrame'>\n",
      "RangeIndex: 123036 entries, 0 to 123035\n",
      "Data columns (total 3 columns):\n",
      " #   Column        Non-Null Count   Dtype \n",
      "---  ------        --------------   ----- \n",
      " 0   id            123036 non-null  object\n",
      " 1   message_date  123036 non-null  object\n",
      " 2   user_id       123036 non-null  int64 \n",
      "dtypes: int64(1), object(2)\n",
      "memory usage: 2.8+ MB\n"
     ]
    }
   ],
   "source": [
    "messages_df.info()"
   ]
  },
  {
   "cell_type": "code",
   "execution_count": 18,
   "id": "81749d9f",
   "metadata": {},
   "outputs": [],
   "source": [
    "messages_df['message_date'] = pd.to_datetime(messages_df['message_date'], format = '%Y-%m-%d')\n",
    "messages_df['month'] = messages_df['message_date'].dt.month"
   ]
  },
  {
   "cell_type": "markdown",
   "id": "b6cc9e33",
   "metadata": {},
   "source": [
    "Пропусков нет.\n",
    "\n",
    "Меняем формат даты. \n",
    "\n",
    "Выделяем в отдельный столбец месяц."
   ]
  },
  {
   "cell_type": "code",
   "execution_count": 19,
   "id": "4c279d69",
   "metadata": {},
   "outputs": [],
   "source": [
    "try:\n",
    "    tariffs_df = pd.read_csv(r'C:\\Users\\Иванов\\tariffs.csv')\n",
    "except:\n",
    "    tariffs_df = pd.read_csv('/datasets/tariffs.csv')"
   ]
  },
  {
   "cell_type": "code",
   "execution_count": 20,
   "id": "029ad6d1",
   "metadata": {},
   "outputs": [
    {
     "data": {
      "text/html": [
       "<div>\n",
       "<style scoped>\n",
       "    .dataframe tbody tr th:only-of-type {\n",
       "        vertical-align: middle;\n",
       "    }\n",
       "\n",
       "    .dataframe tbody tr th {\n",
       "        vertical-align: top;\n",
       "    }\n",
       "\n",
       "    .dataframe thead th {\n",
       "        text-align: right;\n",
       "    }\n",
       "</style>\n",
       "<table border=\"1\" class=\"dataframe\">\n",
       "  <thead>\n",
       "    <tr style=\"text-align: right;\">\n",
       "      <th></th>\n",
       "      <th>messages_included</th>\n",
       "      <th>mb_per_month_included</th>\n",
       "      <th>minutes_included</th>\n",
       "      <th>rub_monthly_fee</th>\n",
       "      <th>rub_per_gb</th>\n",
       "      <th>rub_per_message</th>\n",
       "      <th>rub_per_minute</th>\n",
       "      <th>tariff_name</th>\n",
       "    </tr>\n",
       "  </thead>\n",
       "  <tbody>\n",
       "    <tr>\n",
       "      <th>0</th>\n",
       "      <td>50</td>\n",
       "      <td>15360</td>\n",
       "      <td>500</td>\n",
       "      <td>550</td>\n",
       "      <td>200</td>\n",
       "      <td>3</td>\n",
       "      <td>3</td>\n",
       "      <td>smart</td>\n",
       "    </tr>\n",
       "    <tr>\n",
       "      <th>1</th>\n",
       "      <td>1000</td>\n",
       "      <td>30720</td>\n",
       "      <td>3000</td>\n",
       "      <td>1950</td>\n",
       "      <td>150</td>\n",
       "      <td>1</td>\n",
       "      <td>1</td>\n",
       "      <td>ultra</td>\n",
       "    </tr>\n",
       "  </tbody>\n",
       "</table>\n",
       "</div>"
      ],
      "text/plain": [
       "   messages_included  mb_per_month_included  minutes_included  \\\n",
       "0                 50                  15360               500   \n",
       "1               1000                  30720              3000   \n",
       "\n",
       "   rub_monthly_fee  rub_per_gb  rub_per_message  rub_per_minute tariff_name  \n",
       "0              550         200                3               3       smart  \n",
       "1             1950         150                1               1       ultra  "
      ]
     },
     "metadata": {},
     "output_type": "display_data"
    }
   ],
   "source": [
    "display(tariffs_df.head())"
   ]
  },
  {
   "cell_type": "markdown",
   "id": "c01fd251",
   "metadata": {},
   "source": [
    "Таблица tariffs (информация о тарифах):\n",
    "* tariff_name — название тарифа\n",
    "* rub_monthly_fee — ежемесячная абонентская плата в рублях\n",
    "* minutes_included — количество минут разговора в месяц, включённых в абонентскую плату\n",
    "* messages_included — количество сообщений в месяц, включённых в абонентскую плату\n",
    "* mb_per_month_included — объём интернет-трафика, включённого в абонентскую плату (в мегабайтах)\n",
    "* rub_per_minute — стоимость минуты разговора сверх тарифного пакета (например, если в тарифе 100 минут разговора в месяц, то со 101 минуты будет взиматься плата)\n",
    "* rub_per_message — стоимость отправки сообщения сверх тарифного пакета\n",
    "* rub_per_gb — стоимость дополнительного гигабайта интернет-трафика сверх тарифного пакета (1 гигабайт = 1024 мегабайта)"
   ]
  },
  {
   "cell_type": "code",
   "execution_count": 21,
   "id": "a4708f79",
   "metadata": {},
   "outputs": [
    {
     "name": "stdout",
     "output_type": "stream",
     "text": [
      "<class 'pandas.core.frame.DataFrame'>\n",
      "RangeIndex: 2 entries, 0 to 1\n",
      "Data columns (total 8 columns):\n",
      " #   Column                 Non-Null Count  Dtype \n",
      "---  ------                 --------------  ----- \n",
      " 0   messages_included      2 non-null      int64 \n",
      " 1   mb_per_month_included  2 non-null      int64 \n",
      " 2   minutes_included       2 non-null      int64 \n",
      " 3   rub_monthly_fee        2 non-null      int64 \n",
      " 4   rub_per_gb             2 non-null      int64 \n",
      " 5   rub_per_message        2 non-null      int64 \n",
      " 6   rub_per_minute         2 non-null      int64 \n",
      " 7   tariff_name            2 non-null      object\n",
      "dtypes: int64(7), object(1)\n",
      "memory usage: 256.0+ bytes\n"
     ]
    }
   ],
   "source": [
    "tariffs_df.info()"
   ]
  },
  {
   "cell_type": "markdown",
   "id": "cb8936b5",
   "metadata": {},
   "source": [
    "Пропусков нет. Тип данных соответствует"
   ]
  },
  {
   "cell_type": "code",
   "execution_count": 22,
   "id": "f092cf3c",
   "metadata": {},
   "outputs": [],
   "source": [
    "try:\n",
    "    users_df = pd.read_csv(r'C:\\Users\\Иванов\\users.csv')\n",
    "except:\n",
    "    users_df = pd.read_csv('/datasets/users.csv')"
   ]
  },
  {
   "cell_type": "code",
   "execution_count": 23,
   "id": "351f3a38",
   "metadata": {},
   "outputs": [
    {
     "data": {
      "text/html": [
       "<div>\n",
       "<style scoped>\n",
       "    .dataframe tbody tr th:only-of-type {\n",
       "        vertical-align: middle;\n",
       "    }\n",
       "\n",
       "    .dataframe tbody tr th {\n",
       "        vertical-align: top;\n",
       "    }\n",
       "\n",
       "    .dataframe thead th {\n",
       "        text-align: right;\n",
       "    }\n",
       "</style>\n",
       "<table border=\"1\" class=\"dataframe\">\n",
       "  <thead>\n",
       "    <tr style=\"text-align: right;\">\n",
       "      <th></th>\n",
       "      <th>user_id</th>\n",
       "      <th>age</th>\n",
       "      <th>churn_date</th>\n",
       "      <th>city</th>\n",
       "      <th>first_name</th>\n",
       "      <th>last_name</th>\n",
       "      <th>reg_date</th>\n",
       "      <th>tariff</th>\n",
       "    </tr>\n",
       "  </thead>\n",
       "  <tbody>\n",
       "    <tr>\n",
       "      <th>0</th>\n",
       "      <td>1000</td>\n",
       "      <td>52</td>\n",
       "      <td>NaN</td>\n",
       "      <td>Краснодар</td>\n",
       "      <td>Рафаил</td>\n",
       "      <td>Верещагин</td>\n",
       "      <td>2018-05-25</td>\n",
       "      <td>ultra</td>\n",
       "    </tr>\n",
       "    <tr>\n",
       "      <th>1</th>\n",
       "      <td>1001</td>\n",
       "      <td>41</td>\n",
       "      <td>NaN</td>\n",
       "      <td>Москва</td>\n",
       "      <td>Иван</td>\n",
       "      <td>Ежов</td>\n",
       "      <td>2018-11-01</td>\n",
       "      <td>smart</td>\n",
       "    </tr>\n",
       "    <tr>\n",
       "      <th>2</th>\n",
       "      <td>1002</td>\n",
       "      <td>59</td>\n",
       "      <td>NaN</td>\n",
       "      <td>Стерлитамак</td>\n",
       "      <td>Евгений</td>\n",
       "      <td>Абрамович</td>\n",
       "      <td>2018-06-17</td>\n",
       "      <td>smart</td>\n",
       "    </tr>\n",
       "    <tr>\n",
       "      <th>3</th>\n",
       "      <td>1003</td>\n",
       "      <td>23</td>\n",
       "      <td>NaN</td>\n",
       "      <td>Москва</td>\n",
       "      <td>Белла</td>\n",
       "      <td>Белякова</td>\n",
       "      <td>2018-08-17</td>\n",
       "      <td>ultra</td>\n",
       "    </tr>\n",
       "    <tr>\n",
       "      <th>4</th>\n",
       "      <td>1004</td>\n",
       "      <td>68</td>\n",
       "      <td>NaN</td>\n",
       "      <td>Новокузнецк</td>\n",
       "      <td>Татьяна</td>\n",
       "      <td>Авдеенко</td>\n",
       "      <td>2018-05-14</td>\n",
       "      <td>ultra</td>\n",
       "    </tr>\n",
       "  </tbody>\n",
       "</table>\n",
       "</div>"
      ],
      "text/plain": [
       "   user_id  age churn_date         city first_name  last_name    reg_date  \\\n",
       "0     1000   52        NaN    Краснодар     Рафаил  Верещагин  2018-05-25   \n",
       "1     1001   41        NaN       Москва       Иван       Ежов  2018-11-01   \n",
       "2     1002   59        NaN  Стерлитамак    Евгений  Абрамович  2018-06-17   \n",
       "3     1003   23        NaN       Москва      Белла   Белякова  2018-08-17   \n",
       "4     1004   68        NaN  Новокузнецк    Татьяна   Авдеенко  2018-05-14   \n",
       "\n",
       "  tariff  \n",
       "0  ultra  \n",
       "1  smart  \n",
       "2  smart  \n",
       "3  ultra  \n",
       "4  ultra  "
      ]
     },
     "metadata": {},
     "output_type": "display_data"
    }
   ],
   "source": [
    "display(users_df.head())"
   ]
  },
  {
   "cell_type": "markdown",
   "id": "c6ba144f",
   "metadata": {},
   "source": [
    "Таблица users (информация о пользователях):\n",
    "* user_id — уникальный идентификатор пользователя\n",
    "* first_name — имя пользователя\n",
    "* last_name — фамилия пользователя\n",
    "* age — возраст пользователя (годы)\n",
    "* reg_date — дата подключения тарифа (день, месяц, год)\n",
    "* churn_date — дата прекращения пользования тарифом (если значение пропущено, то тариф ещё действовал на момент выгрузки данных)\n",
    "* city — город проживания пользователя\n",
    "* tarif — название тарифного плана"
   ]
  },
  {
   "cell_type": "code",
   "execution_count": 24,
   "id": "f979a98a",
   "metadata": {},
   "outputs": [
    {
     "data": {
      "text/html": [
       "<div>\n",
       "<style scoped>\n",
       "    .dataframe tbody tr th:only-of-type {\n",
       "        vertical-align: middle;\n",
       "    }\n",
       "\n",
       "    .dataframe tbody tr th {\n",
       "        vertical-align: top;\n",
       "    }\n",
       "\n",
       "    .dataframe thead th {\n",
       "        text-align: right;\n",
       "    }\n",
       "</style>\n",
       "<table border=\"1\" class=\"dataframe\">\n",
       "  <thead>\n",
       "    <tr style=\"text-align: right;\">\n",
       "      <th></th>\n",
       "      <th>user_id</th>\n",
       "      <th>age</th>\n",
       "    </tr>\n",
       "  </thead>\n",
       "  <tbody>\n",
       "    <tr>\n",
       "      <th>count</th>\n",
       "      <td>500.000000</td>\n",
       "      <td>500.00000</td>\n",
       "    </tr>\n",
       "    <tr>\n",
       "      <th>mean</th>\n",
       "      <td>1249.500000</td>\n",
       "      <td>46.58800</td>\n",
       "    </tr>\n",
       "    <tr>\n",
       "      <th>std</th>\n",
       "      <td>144.481833</td>\n",
       "      <td>16.66763</td>\n",
       "    </tr>\n",
       "    <tr>\n",
       "      <th>min</th>\n",
       "      <td>1000.000000</td>\n",
       "      <td>18.00000</td>\n",
       "    </tr>\n",
       "    <tr>\n",
       "      <th>25%</th>\n",
       "      <td>1124.750000</td>\n",
       "      <td>32.00000</td>\n",
       "    </tr>\n",
       "    <tr>\n",
       "      <th>50%</th>\n",
       "      <td>1249.500000</td>\n",
       "      <td>46.00000</td>\n",
       "    </tr>\n",
       "    <tr>\n",
       "      <th>75%</th>\n",
       "      <td>1374.250000</td>\n",
       "      <td>62.00000</td>\n",
       "    </tr>\n",
       "    <tr>\n",
       "      <th>max</th>\n",
       "      <td>1499.000000</td>\n",
       "      <td>75.00000</td>\n",
       "    </tr>\n",
       "  </tbody>\n",
       "</table>\n",
       "</div>"
      ],
      "text/plain": [
       "           user_id        age\n",
       "count   500.000000  500.00000\n",
       "mean   1249.500000   46.58800\n",
       "std     144.481833   16.66763\n",
       "min    1000.000000   18.00000\n",
       "25%    1124.750000   32.00000\n",
       "50%    1249.500000   46.00000\n",
       "75%    1374.250000   62.00000\n",
       "max    1499.000000   75.00000"
      ]
     },
     "execution_count": 24,
     "metadata": {},
     "output_type": "execute_result"
    }
   ],
   "source": [
    "users_df.describe()"
   ]
  },
  {
   "cell_type": "code",
   "execution_count": 25,
   "id": "74a27ecf",
   "metadata": {},
   "outputs": [
    {
     "name": "stdout",
     "output_type": "stream",
     "text": [
      "<class 'pandas.core.frame.DataFrame'>\n",
      "RangeIndex: 500 entries, 0 to 499\n",
      "Data columns (total 8 columns):\n",
      " #   Column      Non-Null Count  Dtype \n",
      "---  ------      --------------  ----- \n",
      " 0   user_id     500 non-null    int64 \n",
      " 1   age         500 non-null    int64 \n",
      " 2   churn_date  38 non-null     object\n",
      " 3   city        500 non-null    object\n",
      " 4   first_name  500 non-null    object\n",
      " 5   last_name   500 non-null    object\n",
      " 6   reg_date    500 non-null    object\n",
      " 7   tariff      500 non-null    object\n",
      "dtypes: int64(2), object(6)\n",
      "memory usage: 31.4+ KB\n"
     ]
    }
   ],
   "source": [
    "users_df.info()"
   ]
  },
  {
   "cell_type": "code",
   "execution_count": 26,
   "id": "4e63bad0",
   "metadata": {},
   "outputs": [],
   "source": [
    "users_df['reg_date'] = pd.to_datetime(users_df['reg_date'], format = '%Y-%m-%d')"
   ]
  },
  {
   "cell_type": "markdown",
   "id": "919a0dfd",
   "metadata": {},
   "source": [
    "Изменяем формат данных с датой подключения. Дата прекращения пользования тарифом в дальнейшем анализе нам не понадобится. Оставляем пропуски, не меняем."
   ]
  },
  {
   "cell_type": "markdown",
   "id": "6306cc2e",
   "metadata": {},
   "source": [
    "Посчитайте для каждого пользователя:\n",
    "* количество сделанных звонков и израсходованных минут разговора по месяцам;\n",
    "* количество отправленных сообщений по месяцам;\n",
    "* объем израсходованного интернет-трафика по месяцам;\n",
    "* помесячную выручку с каждого пользователя (вычтите бесплатный лимит из суммарного количества звонков, сообщений и интернет-трафика; остаток умножьте на значение из тарифного плана; прибавьте абонентскую плату, соответствующую тарифному плану).\n",
    "\n",
    "Описание тарифов\n",
    "\n",
    "Тариф «Смарт»\n",
    "* Ежемесячная плата: 550 рублей\n",
    "* Включено 500 минут разговора, 50 сообщений и 15 Гб интернет-трафика\n",
    "\n",
    "Стоимость услуг сверх тарифного пакета:\n",
    "* минута разговора: 3 рубля\n",
    "* сообщение: 3 рубля\n",
    "* 1 Гб интернет-трафика: 200 рублей\n",
    "\n",
    "Тариф «Ультра»\n",
    "* Ежемесячная плата: 1950 рублей\n",
    "* Включено 3000 минут разговора, 1000 сообщений и 30 Гб интернет-трафика\n",
    "\n",
    "Стоимость услуг сверх тарифного пакета:\n",
    "* минута разговора: 1 рубль\n",
    "* сообщение: 1 рубль\n",
    "* 1 Гб интернет-трафика: 150 рублей"
   ]
  },
  {
   "cell_type": "markdown",
   "id": "2f2f2af6",
   "metadata": {},
   "source": [
    "Группируем таблицы по:\n",
    "\n",
    "* количеству сделанных звонков и израсходованных минут разговора по месяцам;\n",
    "* количеству отправленных сообщений по месяцам;\n",
    "* объему израсходованного интернет-трафика по месяцам;\n",
    "\n",
    "Удаляем в них индексы для дальнейшего объединения."
   ]
  },
  {
   "cell_type": "code",
   "execution_count": 27,
   "id": "4f19d622",
   "metadata": {},
   "outputs": [],
   "source": [
    "df_calls_pivot = df_calls.pivot_table(index=['user_id','month'], values='duration', aggfunc=['count','sum']).reset_index()"
   ]
  },
  {
   "cell_type": "code",
   "execution_count": 28,
   "id": "a388e879",
   "metadata": {},
   "outputs": [],
   "source": [
    "df_messages_pivot = messages_df.pivot_table(index=['user_id','month'], values='id', aggfunc=['count']).reset_index()"
   ]
  },
  {
   "cell_type": "code",
   "execution_count": 29,
   "id": "ecfb3c87",
   "metadata": {},
   "outputs": [],
   "source": [
    "internet_df_pivot = internet_df.pivot_table(index=['user_id','month'], values='mb_used', aggfunc=['sum']).reset_index()"
   ]
  },
  {
   "cell_type": "markdown",
   "id": "9ec35fea",
   "metadata": {},
   "source": [
    "Соединяем таблицы."
   ]
  },
  {
   "cell_type": "code",
   "execution_count": 30,
   "id": "615759f9",
   "metadata": {},
   "outputs": [
    {
     "name": "stderr",
     "output_type": "stream",
     "text": [
      "C:\\anaconda3\\envs\\da_practicum_env\\lib\\site-packages\\pandas\\core\\generic.py:4153: PerformanceWarning: dropping on a non-lexsorted multi-index without a level parameter may impact performance.\n",
      "  obj = obj._drop_axis(labels, axis, level=level, errors=errors)\n"
     ]
    }
   ],
   "source": [
    "df_calls_internet = df_calls_pivot.merge(internet_df_pivot, on = ('user_id', 'month'), how = 'outer')"
   ]
  },
  {
   "cell_type": "code",
   "execution_count": 31,
   "id": "54701184",
   "metadata": {},
   "outputs": [],
   "source": [
    "df_calls_internet_messages = df_calls_internet.merge(df_messages_pivot, on = ('user_id', 'month'), how = 'outer')"
   ]
  },
  {
   "cell_type": "markdown",
   "id": "9dbfc4f7",
   "metadata": {},
   "source": [
    "Юпитер ругается, т.к. названия столбцов \"двухэтажные\". Переименовываем."
   ]
  },
  {
   "cell_type": "code",
   "execution_count": 32,
   "id": "af2f257a",
   "metadata": {},
   "outputs": [],
   "source": [
    "df_calls_internet_messages.columns = ['user_id', 'month', 'duration_count', 'duration_time', 'internet', 'sms']"
   ]
  },
  {
   "cell_type": "markdown",
   "id": "8d1c0a05",
   "metadata": {},
   "source": [
    "Выбираем из датафрейма только нужные нам столбцы. Переименовываем название столбца для последующего объединения."
   ]
  },
  {
   "cell_type": "code",
   "execution_count": 33,
   "id": "dc71f957",
   "metadata": {},
   "outputs": [],
   "source": [
    "users_df_1 = users_df.loc[:, ['user_id','city','tariff']]"
   ]
  },
  {
   "cell_type": "code",
   "execution_count": 34,
   "id": "a7d45639",
   "metadata": {},
   "outputs": [],
   "source": [
    "users_df_1.columns = ['user_id','city','tariff_name']"
   ]
  },
  {
   "cell_type": "markdown",
   "id": "47022e74",
   "metadata": {},
   "source": [
    "Объединяем с остальными датафреймами."
   ]
  },
  {
   "cell_type": "code",
   "execution_count": 35,
   "id": "2dcc78f4",
   "metadata": {},
   "outputs": [],
   "source": [
    "df_work = df_calls_internet_messages.merge(users_df_1, on = 'user_id', how = 'left')"
   ]
  },
  {
   "cell_type": "code",
   "execution_count": 36,
   "id": "5f6d8074",
   "metadata": {},
   "outputs": [],
   "source": [
    "df_work = df_work.merge(tariffs_df, on = 'tariff_name', how = 'left')"
   ]
  },
  {
   "cell_type": "code",
   "execution_count": 37,
   "id": "f8774603",
   "metadata": {},
   "outputs": [
    {
     "data": {
      "text/html": [
       "<div>\n",
       "<style scoped>\n",
       "    .dataframe tbody tr th:only-of-type {\n",
       "        vertical-align: middle;\n",
       "    }\n",
       "\n",
       "    .dataframe tbody tr th {\n",
       "        vertical-align: top;\n",
       "    }\n",
       "\n",
       "    .dataframe thead th {\n",
       "        text-align: right;\n",
       "    }\n",
       "</style>\n",
       "<table border=\"1\" class=\"dataframe\">\n",
       "  <thead>\n",
       "    <tr style=\"text-align: right;\">\n",
       "      <th></th>\n",
       "      <th>user_id</th>\n",
       "      <th>month</th>\n",
       "      <th>duration_count</th>\n",
       "      <th>duration_time</th>\n",
       "      <th>internet</th>\n",
       "      <th>sms</th>\n",
       "      <th>city</th>\n",
       "      <th>tariff_name</th>\n",
       "      <th>messages_included</th>\n",
       "      <th>mb_per_month_included</th>\n",
       "      <th>minutes_included</th>\n",
       "      <th>rub_monthly_fee</th>\n",
       "      <th>rub_per_gb</th>\n",
       "      <th>rub_per_message</th>\n",
       "      <th>rub_per_minute</th>\n",
       "    </tr>\n",
       "  </thead>\n",
       "  <tbody>\n",
       "    <tr>\n",
       "      <th>0</th>\n",
       "      <td>1000</td>\n",
       "      <td>5</td>\n",
       "      <td>22.0</td>\n",
       "      <td>159.0</td>\n",
       "      <td>2253.49</td>\n",
       "      <td>22.0</td>\n",
       "      <td>Краснодар</td>\n",
       "      <td>ultra</td>\n",
       "      <td>1000</td>\n",
       "      <td>30720</td>\n",
       "      <td>3000</td>\n",
       "      <td>1950</td>\n",
       "      <td>150</td>\n",
       "      <td>1</td>\n",
       "      <td>1</td>\n",
       "    </tr>\n",
       "    <tr>\n",
       "      <th>1</th>\n",
       "      <td>1000</td>\n",
       "      <td>6</td>\n",
       "      <td>43.0</td>\n",
       "      <td>172.0</td>\n",
       "      <td>23233.77</td>\n",
       "      <td>60.0</td>\n",
       "      <td>Краснодар</td>\n",
       "      <td>ultra</td>\n",
       "      <td>1000</td>\n",
       "      <td>30720</td>\n",
       "      <td>3000</td>\n",
       "      <td>1950</td>\n",
       "      <td>150</td>\n",
       "      <td>1</td>\n",
       "      <td>1</td>\n",
       "    </tr>\n",
       "    <tr>\n",
       "      <th>2</th>\n",
       "      <td>1000</td>\n",
       "      <td>7</td>\n",
       "      <td>47.0</td>\n",
       "      <td>340.0</td>\n",
       "      <td>14003.64</td>\n",
       "      <td>75.0</td>\n",
       "      <td>Краснодар</td>\n",
       "      <td>ultra</td>\n",
       "      <td>1000</td>\n",
       "      <td>30720</td>\n",
       "      <td>3000</td>\n",
       "      <td>1950</td>\n",
       "      <td>150</td>\n",
       "      <td>1</td>\n",
       "      <td>1</td>\n",
       "    </tr>\n",
       "    <tr>\n",
       "      <th>3</th>\n",
       "      <td>1000</td>\n",
       "      <td>8</td>\n",
       "      <td>52.0</td>\n",
       "      <td>408.0</td>\n",
       "      <td>14055.93</td>\n",
       "      <td>81.0</td>\n",
       "      <td>Краснодар</td>\n",
       "      <td>ultra</td>\n",
       "      <td>1000</td>\n",
       "      <td>30720</td>\n",
       "      <td>3000</td>\n",
       "      <td>1950</td>\n",
       "      <td>150</td>\n",
       "      <td>1</td>\n",
       "      <td>1</td>\n",
       "    </tr>\n",
       "    <tr>\n",
       "      <th>4</th>\n",
       "      <td>1000</td>\n",
       "      <td>9</td>\n",
       "      <td>58.0</td>\n",
       "      <td>466.0</td>\n",
       "      <td>14568.91</td>\n",
       "      <td>57.0</td>\n",
       "      <td>Краснодар</td>\n",
       "      <td>ultra</td>\n",
       "      <td>1000</td>\n",
       "      <td>30720</td>\n",
       "      <td>3000</td>\n",
       "      <td>1950</td>\n",
       "      <td>150</td>\n",
       "      <td>1</td>\n",
       "      <td>1</td>\n",
       "    </tr>\n",
       "  </tbody>\n",
       "</table>\n",
       "</div>"
      ],
      "text/plain": [
       "   user_id  month  duration_count  duration_time  internet   sms       city  \\\n",
       "0     1000      5            22.0          159.0   2253.49  22.0  Краснодар   \n",
       "1     1000      6            43.0          172.0  23233.77  60.0  Краснодар   \n",
       "2     1000      7            47.0          340.0  14003.64  75.0  Краснодар   \n",
       "3     1000      8            52.0          408.0  14055.93  81.0  Краснодар   \n",
       "4     1000      9            58.0          466.0  14568.91  57.0  Краснодар   \n",
       "\n",
       "  tariff_name  messages_included  mb_per_month_included  minutes_included  \\\n",
       "0       ultra               1000                  30720              3000   \n",
       "1       ultra               1000                  30720              3000   \n",
       "2       ultra               1000                  30720              3000   \n",
       "3       ultra               1000                  30720              3000   \n",
       "4       ultra               1000                  30720              3000   \n",
       "\n",
       "   rub_monthly_fee  rub_per_gb  rub_per_message  rub_per_minute  \n",
       "0             1950         150                1               1  \n",
       "1             1950         150                1               1  \n",
       "2             1950         150                1               1  \n",
       "3             1950         150                1               1  \n",
       "4             1950         150                1               1  "
      ]
     },
     "metadata": {},
     "output_type": "display_data"
    }
   ],
   "source": [
    "display(df_work.head())"
   ]
  },
  {
   "cell_type": "code",
   "execution_count": 38,
   "id": "8972915c",
   "metadata": {},
   "outputs": [
    {
     "name": "stdout",
     "output_type": "stream",
     "text": [
      "<class 'pandas.core.frame.DataFrame'>\n",
      "Int64Index: 3214 entries, 0 to 3213\n",
      "Data columns (total 15 columns):\n",
      " #   Column                 Non-Null Count  Dtype  \n",
      "---  ------                 --------------  -----  \n",
      " 0   user_id                3214 non-null   int64  \n",
      " 1   month                  3214 non-null   int64  \n",
      " 2   duration_count         3174 non-null   float64\n",
      " 3   duration_time          3174 non-null   float64\n",
      " 4   internet               3203 non-null   float64\n",
      " 5   sms                    2717 non-null   float64\n",
      " 6   city                   3214 non-null   object \n",
      " 7   tariff_name            3214 non-null   object \n",
      " 8   messages_included      3214 non-null   int64  \n",
      " 9   mb_per_month_included  3214 non-null   int64  \n",
      " 10  minutes_included       3214 non-null   int64  \n",
      " 11  rub_monthly_fee        3214 non-null   int64  \n",
      " 12  rub_per_gb             3214 non-null   int64  \n",
      " 13  rub_per_message        3214 non-null   int64  \n",
      " 14  rub_per_minute         3214 non-null   int64  \n",
      "dtypes: float64(4), int64(9), object(2)\n",
      "memory usage: 401.8+ KB\n"
     ]
    }
   ],
   "source": [
    "df_work.info()"
   ]
  },
  {
   "cell_type": "markdown",
   "id": "e28bee86",
   "metadata": {},
   "source": [
    "Смотрим на получившейся датафрейм. Есть пустые значения, это произошло из-за того, что клиент мог за отдельно взятый месяц не пользоваться всеми опциями тарифа. Меняем на нуль, меняем тип данных (кроме интернета)."
   ]
  },
  {
   "cell_type": "code",
   "execution_count": 39,
   "id": "0b21d833",
   "metadata": {},
   "outputs": [],
   "source": [
    "df_work['duration_count'] = df_work['duration_count'].fillna(0).astype(int)"
   ]
  },
  {
   "cell_type": "code",
   "execution_count": 40,
   "id": "f334561a",
   "metadata": {},
   "outputs": [],
   "source": [
    "df_work['duration_time'] = df_work['duration_time'].fillna(0).astype(int)"
   ]
  },
  {
   "cell_type": "code",
   "execution_count": 41,
   "id": "0995aaf6",
   "metadata": {},
   "outputs": [],
   "source": [
    "df_work['internet'] = df_work['internet'].fillna(0)"
   ]
  },
  {
   "cell_type": "code",
   "execution_count": 42,
   "id": "1f1e324b",
   "metadata": {},
   "outputs": [],
   "source": [
    "df_work['sms'] = df_work['sms'].fillna(0).astype(int)"
   ]
  },
  {
   "cell_type": "markdown",
   "id": "d7aa4eaf",
   "metadata": {},
   "source": [
    "Считаем помесячную выручку с каждого пользователя. Пишем функцию, добавляем столбец. По уловиям тарифов общая сумма интернет трафика за месяц округляется в большую сторону. Переводим Мб в Гб округляем в большую сторону."
   ]
  },
  {
   "cell_type": "code",
   "execution_count": 43,
   "id": "082a403f",
   "metadata": {},
   "outputs": [],
   "source": [
    "def func_price (i):\n",
    "    time_price = 0\n",
    "    sms_price = 0\n",
    "    internet_price = 0\n",
    "    if i['duration_time'] > i['minutes_included']:\n",
    "        time_price = (i['duration_time'] - i['minutes_included']) * i['rub_per_minute']\n",
    "    if i['sms'] > i['messages_included']:\n",
    "        sms_price = (i['sms'] - i['messages_included']) * i['rub_per_message']        \n",
    "    if i['internet'] > i['mb_per_month_included']:\n",
    "        internet_price = np.ceil((i['internet'] - i['mb_per_month_included'])/1024) * i['rub_per_gb']\n",
    "    price = time_price + sms_price + internet_price + i['rub_monthly_fee']\n",
    "    return price"
   ]
  },
  {
   "cell_type": "code",
   "execution_count": 44,
   "id": "03a7bd13",
   "metadata": {},
   "outputs": [],
   "source": [
    "df_work['price_month'] = df_work.apply(func_price, axis=1)"
   ]
  },
  {
   "cell_type": "code",
   "execution_count": 45,
   "id": "ca132bb2",
   "metadata": {},
   "outputs": [
    {
     "data": {
      "text/html": [
       "<div>\n",
       "<style scoped>\n",
       "    .dataframe tbody tr th:only-of-type {\n",
       "        vertical-align: middle;\n",
       "    }\n",
       "\n",
       "    .dataframe tbody tr th {\n",
       "        vertical-align: top;\n",
       "    }\n",
       "\n",
       "    .dataframe thead th {\n",
       "        text-align: right;\n",
       "    }\n",
       "</style>\n",
       "<table border=\"1\" class=\"dataframe\">\n",
       "  <thead>\n",
       "    <tr style=\"text-align: right;\">\n",
       "      <th></th>\n",
       "      <th>user_id</th>\n",
       "      <th>month</th>\n",
       "      <th>duration_count</th>\n",
       "      <th>duration_time</th>\n",
       "      <th>internet</th>\n",
       "      <th>sms</th>\n",
       "      <th>city</th>\n",
       "      <th>tariff_name</th>\n",
       "      <th>messages_included</th>\n",
       "      <th>mb_per_month_included</th>\n",
       "      <th>minutes_included</th>\n",
       "      <th>rub_monthly_fee</th>\n",
       "      <th>rub_per_gb</th>\n",
       "      <th>rub_per_message</th>\n",
       "      <th>rub_per_minute</th>\n",
       "      <th>price_month</th>\n",
       "    </tr>\n",
       "  </thead>\n",
       "  <tbody>\n",
       "    <tr>\n",
       "      <th>0</th>\n",
       "      <td>1000</td>\n",
       "      <td>5</td>\n",
       "      <td>22</td>\n",
       "      <td>159</td>\n",
       "      <td>2253.49</td>\n",
       "      <td>22</td>\n",
       "      <td>Краснодар</td>\n",
       "      <td>ultra</td>\n",
       "      <td>1000</td>\n",
       "      <td>30720</td>\n",
       "      <td>3000</td>\n",
       "      <td>1950</td>\n",
       "      <td>150</td>\n",
       "      <td>1</td>\n",
       "      <td>1</td>\n",
       "      <td>1950.0</td>\n",
       "    </tr>\n",
       "    <tr>\n",
       "      <th>1</th>\n",
       "      <td>1000</td>\n",
       "      <td>6</td>\n",
       "      <td>43</td>\n",
       "      <td>172</td>\n",
       "      <td>23233.77</td>\n",
       "      <td>60</td>\n",
       "      <td>Краснодар</td>\n",
       "      <td>ultra</td>\n",
       "      <td>1000</td>\n",
       "      <td>30720</td>\n",
       "      <td>3000</td>\n",
       "      <td>1950</td>\n",
       "      <td>150</td>\n",
       "      <td>1</td>\n",
       "      <td>1</td>\n",
       "      <td>1950.0</td>\n",
       "    </tr>\n",
       "    <tr>\n",
       "      <th>2</th>\n",
       "      <td>1000</td>\n",
       "      <td>7</td>\n",
       "      <td>47</td>\n",
       "      <td>340</td>\n",
       "      <td>14003.64</td>\n",
       "      <td>75</td>\n",
       "      <td>Краснодар</td>\n",
       "      <td>ultra</td>\n",
       "      <td>1000</td>\n",
       "      <td>30720</td>\n",
       "      <td>3000</td>\n",
       "      <td>1950</td>\n",
       "      <td>150</td>\n",
       "      <td>1</td>\n",
       "      <td>1</td>\n",
       "      <td>1950.0</td>\n",
       "    </tr>\n",
       "    <tr>\n",
       "      <th>3</th>\n",
       "      <td>1000</td>\n",
       "      <td>8</td>\n",
       "      <td>52</td>\n",
       "      <td>408</td>\n",
       "      <td>14055.93</td>\n",
       "      <td>81</td>\n",
       "      <td>Краснодар</td>\n",
       "      <td>ultra</td>\n",
       "      <td>1000</td>\n",
       "      <td>30720</td>\n",
       "      <td>3000</td>\n",
       "      <td>1950</td>\n",
       "      <td>150</td>\n",
       "      <td>1</td>\n",
       "      <td>1</td>\n",
       "      <td>1950.0</td>\n",
       "    </tr>\n",
       "    <tr>\n",
       "      <th>4</th>\n",
       "      <td>1000</td>\n",
       "      <td>9</td>\n",
       "      <td>58</td>\n",
       "      <td>466</td>\n",
       "      <td>14568.91</td>\n",
       "      <td>57</td>\n",
       "      <td>Краснодар</td>\n",
       "      <td>ultra</td>\n",
       "      <td>1000</td>\n",
       "      <td>30720</td>\n",
       "      <td>3000</td>\n",
       "      <td>1950</td>\n",
       "      <td>150</td>\n",
       "      <td>1</td>\n",
       "      <td>1</td>\n",
       "      <td>1950.0</td>\n",
       "    </tr>\n",
       "  </tbody>\n",
       "</table>\n",
       "</div>"
      ],
      "text/plain": [
       "   user_id  month  duration_count  duration_time  internet  sms       city  \\\n",
       "0     1000      5              22            159   2253.49   22  Краснодар   \n",
       "1     1000      6              43            172  23233.77   60  Краснодар   \n",
       "2     1000      7              47            340  14003.64   75  Краснодар   \n",
       "3     1000      8              52            408  14055.93   81  Краснодар   \n",
       "4     1000      9              58            466  14568.91   57  Краснодар   \n",
       "\n",
       "  tariff_name  messages_included  mb_per_month_included  minutes_included  \\\n",
       "0       ultra               1000                  30720              3000   \n",
       "1       ultra               1000                  30720              3000   \n",
       "2       ultra               1000                  30720              3000   \n",
       "3       ultra               1000                  30720              3000   \n",
       "4       ultra               1000                  30720              3000   \n",
       "\n",
       "   rub_monthly_fee  rub_per_gb  rub_per_message  rub_per_minute  price_month  \n",
       "0             1950         150                1               1       1950.0  \n",
       "1             1950         150                1               1       1950.0  \n",
       "2             1950         150                1               1       1950.0  \n",
       "3             1950         150                1               1       1950.0  \n",
       "4             1950         150                1               1       1950.0  "
      ]
     },
     "metadata": {},
     "output_type": "display_data"
    }
   ],
   "source": [
    "display(df_work.head())"
   ]
  },
  {
   "cell_type": "markdown",
   "id": "57c8c572",
   "metadata": {},
   "source": [
    "Шаг 3. Проанализируйте данные\n",
    "Опишите поведение клиентов оператора, исходя из выборки. Сколько минут разговора, сколько сообщений и какой объём интернет-трафика требуется пользователям каждого тарифа в месяц? Посчитайте среднее количество, дисперсию и стандартное отклонение. Постройте гистограммы. Опишите распределения."
   ]
  },
  {
   "cell_type": "markdown",
   "id": "988e3ab5",
   "metadata": {},
   "source": [
    "Минуты разговора."
   ]
  },
  {
   "cell_type": "code",
   "execution_count": 46,
   "id": "15a4f38b",
   "metadata": {
    "scrolled": true
   },
   "outputs": [
    {
     "data": {
      "image/png": "[encoded data removed]",
      "text/plain": [
       "<Figure size 432x288 with 1 Axes>"
      ]
     },
     "metadata": {
      "image/png": {
       "height": 277,
       "width": 408
      },
      "needs_background": "light"
     },
     "output_type": "display_data"
    }
   ],
   "source": [
    "plt.title(\"Минуты разговора пользователей тарифов 'Ultra' и 'Smart'\")\n",
    "sns.barplot(x='month', y='duration_time', data=df_work, ci=None, hue='tariff_name')\n",
    "plt.xlabel(\"Месяц\")\n",
    "plt.ylabel(\"Минуты разговора\")\n",
    "plt.show()"
   ]
  },
  {
   "cell_type": "code",
   "execution_count": 47,
   "id": "5bce6bf4",
   "metadata": {},
   "outputs": [
    {
     "data": {
      "image/png": "[encoded data removed]",
      "text/plain": [
       "<Figure size 432x288 with 1 Axes>"
      ]
     },
     "metadata": {
      "image/png": {
       "height": 277,
       "width": 408
      },
      "needs_background": "light"
     },
     "output_type": "display_data"
    }
   ],
   "source": [
    "plt.title(\"Минуты разговора пользователей тарифов 'Ultra' и 'Smart'\")\n",
    "sns.histplot(x='duration_time', data=df_work, hue='tariff_name')\n",
    "plt.xlabel(\"Продолжительность звонков\")\n",
    "plt.ylabel(\"Количество\")\n",
    "plt.show()"
   ]
  },
  {
   "cell_type": "code",
   "execution_count": 48,
   "id": "7f12239f",
   "metadata": {},
   "outputs": [],
   "source": [
    "df_calls_pivot_work = df_work.pivot_table(index=['tariff_name','month'], values='duration_time', aggfunc=[np.mean, np.var, np.std]).reset_index()"
   ]
  },
  {
   "cell_type": "code",
   "execution_count": 49,
   "id": "d7e14d81",
   "metadata": {},
   "outputs": [],
   "source": [
    "df_calls_pivot_work.columns = ['tariff_name', 'month', 'mean', 'var', 'std']"
   ]
  },
  {
   "cell_type": "code",
   "execution_count": 50,
   "id": "42248f5f",
   "metadata": {},
   "outputs": [
    {
     "data": {
      "text/html": [
       "<div>\n",
       "<style scoped>\n",
       "    .dataframe tbody tr th:only-of-type {\n",
       "        vertical-align: middle;\n",
       "    }\n",
       "\n",
       "    .dataframe tbody tr th {\n",
       "        vertical-align: top;\n",
       "    }\n",
       "\n",
       "    .dataframe thead th {\n",
       "        text-align: right;\n",
       "    }\n",
       "</style>\n",
       "<table border=\"1\" class=\"dataframe\">\n",
       "  <thead>\n",
       "    <tr style=\"text-align: right;\">\n",
       "      <th></th>\n",
       "      <th>tariff_name</th>\n",
       "      <th>month</th>\n",
       "      <th>mean</th>\n",
       "      <th>var</th>\n",
       "      <th>std</th>\n",
       "    </tr>\n",
       "  </thead>\n",
       "  <tbody>\n",
       "    <tr>\n",
       "      <th>0</th>\n",
       "      <td>smart</td>\n",
       "      <td>1</td>\n",
       "      <td>203.852941</td>\n",
       "      <td>23787.341355</td>\n",
       "      <td>154.231454</td>\n",
       "    </tr>\n",
       "    <tr>\n",
       "      <th>1</th>\n",
       "      <td>smart</td>\n",
       "      <td>2</td>\n",
       "      <td>298.689655</td>\n",
       "      <td>36412.287961</td>\n",
       "      <td>190.820041</td>\n",
       "    </tr>\n",
       "    <tr>\n",
       "      <th>2</th>\n",
       "      <td>smart</td>\n",
       "      <td>3</td>\n",
       "      <td>390.051948</td>\n",
       "      <td>36823.155161</td>\n",
       "      <td>191.893604</td>\n",
       "    </tr>\n",
       "    <tr>\n",
       "      <th>3</th>\n",
       "      <td>smart</td>\n",
       "      <td>4</td>\n",
       "      <td>367.133929</td>\n",
       "      <td>34778.207127</td>\n",
       "      <td>186.489161</td>\n",
       "    </tr>\n",
       "    <tr>\n",
       "      <th>4</th>\n",
       "      <td>smart</td>\n",
       "      <td>5</td>\n",
       "      <td>387.361702</td>\n",
       "      <td>34820.061094</td>\n",
       "      <td>186.601343</td>\n",
       "    </tr>\n",
       "    <tr>\n",
       "      <th>5</th>\n",
       "      <td>smart</td>\n",
       "      <td>6</td>\n",
       "      <td>395.640244</td>\n",
       "      <td>30742.918861</td>\n",
       "      <td>175.336587</td>\n",
       "    </tr>\n",
       "    <tr>\n",
       "      <th>6</th>\n",
       "      <td>smart</td>\n",
       "      <td>7</td>\n",
       "      <td>408.353234</td>\n",
       "      <td>32250.269602</td>\n",
       "      <td>179.583601</td>\n",
       "    </tr>\n",
       "    <tr>\n",
       "      <th>7</th>\n",
       "      <td>smart</td>\n",
       "      <td>8</td>\n",
       "      <td>421.468085</td>\n",
       "      <td>34793.583379</td>\n",
       "      <td>186.530382</td>\n",
       "    </tr>\n",
       "    <tr>\n",
       "      <th>8</th>\n",
       "      <td>smart</td>\n",
       "      <td>9</td>\n",
       "      <td>428.611538</td>\n",
       "      <td>33535.342723</td>\n",
       "      <td>183.126576</td>\n",
       "    </tr>\n",
       "    <tr>\n",
       "      <th>9</th>\n",
       "      <td>smart</td>\n",
       "      <td>10</td>\n",
       "      <td>426.136054</td>\n",
       "      <td>35392.336375</td>\n",
       "      <td>188.128510</td>\n",
       "    </tr>\n",
       "    <tr>\n",
       "      <th>10</th>\n",
       "      <td>smart</td>\n",
       "      <td>11</td>\n",
       "      <td>435.265823</td>\n",
       "      <td>31605.237050</td>\n",
       "      <td>177.778618</td>\n",
       "    </tr>\n",
       "    <tr>\n",
       "      <th>11</th>\n",
       "      <td>smart</td>\n",
       "      <td>12</td>\n",
       "      <td>478.560831</td>\n",
       "      <td>39698.622033</td>\n",
       "      <td>199.245131</td>\n",
       "    </tr>\n",
       "    <tr>\n",
       "      <th>12</th>\n",
       "      <td>ultra</td>\n",
       "      <td>1</td>\n",
       "      <td>428.111111</td>\n",
       "      <td>72769.361111</td>\n",
       "      <td>269.757968</td>\n",
       "    </tr>\n",
       "    <tr>\n",
       "      <th>13</th>\n",
       "      <td>ultra</td>\n",
       "      <td>2</td>\n",
       "      <td>297.125000</td>\n",
       "      <td>87919.679348</td>\n",
       "      <td>296.512528</td>\n",
       "    </tr>\n",
       "    <tr>\n",
       "      <th>14</th>\n",
       "      <td>ultra</td>\n",
       "      <td>3</td>\n",
       "      <td>489.648649</td>\n",
       "      <td>111384.900901</td>\n",
       "      <td>333.743765</td>\n",
       "    </tr>\n",
       "    <tr>\n",
       "      <th>15</th>\n",
       "      <td>ultra</td>\n",
       "      <td>4</td>\n",
       "      <td>458.018182</td>\n",
       "      <td>71653.870034</td>\n",
       "      <td>267.682405</td>\n",
       "    </tr>\n",
       "    <tr>\n",
       "      <th>16</th>\n",
       "      <td>ultra</td>\n",
       "      <td>5</td>\n",
       "      <td>510.328358</td>\n",
       "      <td>83870.193578</td>\n",
       "      <td>289.603511</td>\n",
       "    </tr>\n",
       "    <tr>\n",
       "      <th>17</th>\n",
       "      <td>ultra</td>\n",
       "      <td>6</td>\n",
       "      <td>479.702381</td>\n",
       "      <td>91535.946500</td>\n",
       "      <td>302.549081</td>\n",
       "    </tr>\n",
       "    <tr>\n",
       "      <th>18</th>\n",
       "      <td>ultra</td>\n",
       "      <td>7</td>\n",
       "      <td>545.791209</td>\n",
       "      <td>94322.278144</td>\n",
       "      <td>307.119322</td>\n",
       "    </tr>\n",
       "    <tr>\n",
       "      <th>19</th>\n",
       "      <td>ultra</td>\n",
       "      <td>8</td>\n",
       "      <td>510.775701</td>\n",
       "      <td>97956.496385</td>\n",
       "      <td>312.980026</td>\n",
       "    </tr>\n",
       "    <tr>\n",
       "      <th>20</th>\n",
       "      <td>ultra</td>\n",
       "      <td>9</td>\n",
       "      <td>539.443478</td>\n",
       "      <td>105716.775286</td>\n",
       "      <td>325.141162</td>\n",
       "    </tr>\n",
       "    <tr>\n",
       "      <th>21</th>\n",
       "      <td>ultra</td>\n",
       "      <td>10</td>\n",
       "      <td>558.081301</td>\n",
       "      <td>106464.583500</td>\n",
       "      <td>326.289110</td>\n",
       "    </tr>\n",
       "    <tr>\n",
       "      <th>22</th>\n",
       "      <td>ultra</td>\n",
       "      <td>11</td>\n",
       "      <td>541.380597</td>\n",
       "      <td>96570.057064</td>\n",
       "      <td>310.757232</td>\n",
       "    </tr>\n",
       "    <tr>\n",
       "      <th>23</th>\n",
       "      <td>ultra</td>\n",
       "      <td>12</td>\n",
       "      <td>592.805755</td>\n",
       "      <td>117276.331561</td>\n",
       "      <td>342.456321</td>\n",
       "    </tr>\n",
       "  </tbody>\n",
       "</table>\n",
       "</div>"
      ],
      "text/plain": [
       "   tariff_name  month        mean            var         std\n",
       "0        smart      1  203.852941   23787.341355  154.231454\n",
       "1        smart      2  298.689655   36412.287961  190.820041\n",
       "2        smart      3  390.051948   36823.155161  191.893604\n",
       "3        smart      4  367.133929   34778.207127  186.489161\n",
       "4        smart      5  387.361702   34820.061094  186.601343\n",
       "5        smart      6  395.640244   30742.918861  175.336587\n",
       "6        smart      7  408.353234   32250.269602  179.583601\n",
       "7        smart      8  421.468085   34793.583379  186.530382\n",
       "8        smart      9  428.611538   33535.342723  183.126576\n",
       "9        smart     10  426.136054   35392.336375  188.128510\n",
       "10       smart     11  435.265823   31605.237050  177.778618\n",
       "11       smart     12  478.560831   39698.622033  199.245131\n",
       "12       ultra      1  428.111111   72769.361111  269.757968\n",
       "13       ultra      2  297.125000   87919.679348  296.512528\n",
       "14       ultra      3  489.648649  111384.900901  333.743765\n",
       "15       ultra      4  458.018182   71653.870034  267.682405\n",
       "16       ultra      5  510.328358   83870.193578  289.603511\n",
       "17       ultra      6  479.702381   91535.946500  302.549081\n",
       "18       ultra      7  545.791209   94322.278144  307.119322\n",
       "19       ultra      8  510.775701   97956.496385  312.980026\n",
       "20       ultra      9  539.443478  105716.775286  325.141162\n",
       "21       ultra     10  558.081301  106464.583500  326.289110\n",
       "22       ultra     11  541.380597   96570.057064  310.757232\n",
       "23       ultra     12  592.805755  117276.331561  342.456321"
      ]
     },
     "metadata": {},
     "output_type": "display_data"
    }
   ],
   "source": [
    "display(df_calls_pivot_work)"
   ]
  },
  {
   "cell_type": "code",
   "execution_count": 51,
   "id": "ec243f8f",
   "metadata": {},
   "outputs": [
    {
     "data": {
      "text/html": [
       "<div>\n",
       "<style scoped>\n",
       "    .dataframe tbody tr th:only-of-type {\n",
       "        vertical-align: middle;\n",
       "    }\n",
       "\n",
       "    .dataframe tbody tr th {\n",
       "        vertical-align: top;\n",
       "    }\n",
       "\n",
       "    .dataframe thead tr th {\n",
       "        text-align: left;\n",
       "    }\n",
       "</style>\n",
       "<table border=\"1\" class=\"dataframe\">\n",
       "  <thead>\n",
       "    <tr>\n",
       "      <th></th>\n",
       "      <th>tariff_name</th>\n",
       "      <th colspan=\"3\" halign=\"left\">mean</th>\n",
       "      <th colspan=\"3\" halign=\"left\">var</th>\n",
       "      <th colspan=\"3\" halign=\"left\">std</th>\n",
       "    </tr>\n",
       "    <tr>\n",
       "      <th></th>\n",
       "      <th></th>\n",
       "      <th>duration_time</th>\n",
       "      <th>internet</th>\n",
       "      <th>sms</th>\n",
       "      <th>duration_time</th>\n",
       "      <th>internet</th>\n",
       "      <th>sms</th>\n",
       "      <th>duration_time</th>\n",
       "      <th>internet</th>\n",
       "      <th>sms</th>\n",
       "    </tr>\n",
       "  </thead>\n",
       "  <tbody>\n",
       "    <tr>\n",
       "      <th>0</th>\n",
       "      <td>smart</td>\n",
       "      <td>417.934948</td>\n",
       "      <td>16208.386990</td>\n",
       "      <td>33.384029</td>\n",
       "      <td>36219.315784</td>\n",
       "      <td>3.446250e+07</td>\n",
       "      <td>796.812958</td>\n",
       "      <td>190.313730</td>\n",
       "      <td>5870.476681</td>\n",
       "      <td>28.227876</td>\n",
       "    </tr>\n",
       "    <tr>\n",
       "      <th>1</th>\n",
       "      <td>ultra</td>\n",
       "      <td>526.623350</td>\n",
       "      <td>19468.805208</td>\n",
       "      <td>49.363452</td>\n",
       "      <td>100873.633397</td>\n",
       "      <td>1.017510e+08</td>\n",
       "      <td>2285.266143</td>\n",
       "      <td>317.606098</td>\n",
       "      <td>10087.170752</td>\n",
       "      <td>47.804457</td>\n",
       "    </tr>\n",
       "  </tbody>\n",
       "</table>\n",
       "</div>"
      ],
      "text/plain": [
       "  tariff_name          mean                                     var  \\\n",
       "              duration_time      internet        sms  duration_time   \n",
       "0       smart    417.934948  16208.386990  33.384029   36219.315784   \n",
       "1       ultra    526.623350  19468.805208  49.363452  100873.633397   \n",
       "\n",
       "                                       std                           \n",
       "       internet          sms duration_time      internet        sms  \n",
       "0  3.446250e+07   796.812958    190.313730   5870.476681  28.227876  \n",
       "1  1.017510e+08  2285.266143    317.606098  10087.170752  47.804457  "
      ]
     },
     "metadata": {},
     "output_type": "display_data"
    }
   ],
   "source": [
    "df_work_all = df_work.pivot_table(index=['tariff_name'], values=['duration_time', 'internet', 'sms'], aggfunc=[np.mean, np.var, np.std]).reset_index()\n",
    "display(df_work_all)"
   ]
  },
  {
   "cell_type": "code",
   "execution_count": 52,
   "id": "98a72127",
   "metadata": {},
   "outputs": [
    {
     "data": {
      "image/png": "[encoded data removed]",
      "text/plain": [
       "<Figure size 432x288 with 1 Axes>"
      ]
     },
     "metadata": {
      "image/png": {
       "height": 277,
       "width": 394
      },
      "needs_background": "light"
     },
     "output_type": "display_data"
    }
   ],
   "source": [
    "plt.title(\"минуты разговора пользователей тарифов 'Ultra' и 'Smart'\")\n",
    "sns.histplot(x='mean', data=df_calls_pivot_work, hue='tariff_name')\n",
    "plt.xlabel(\"средняя продолжительность звонков\")\n",
    "plt.ylabel(\"количество\")\n",
    "plt.show()"
   ]
  },
  {
   "cell_type": "code",
   "execution_count": 53,
   "id": "e3e6e8b6",
   "metadata": {},
   "outputs": [
    {
     "data": {
      "image/png": "[encoded data removed]",
      "text/plain": [
       "<Figure size 432x288 with 1 Axes>"
      ]
     },
     "metadata": {
      "image/png": {
       "height": 277,
       "width": 400
      },
      "needs_background": "light"
     },
     "output_type": "display_data"
    }
   ],
   "source": [
    "plt.title(\"минуты разговора пользователей тарифов 'Ultra' и 'Smart'\")\n",
    "sns.histplot(x='var', data=df_calls_pivot_work, hue='tariff_name')\n",
    "plt.xlabel(\"дисперсия\")\n",
    "plt.ylabel(\"количество\")\n",
    "plt.show()"
   ]
  },
  {
   "cell_type": "code",
   "execution_count": 54,
   "id": "85445f99",
   "metadata": {},
   "outputs": [
    {
     "data": {
      "image/png": "[encoded data removed]",
      "text/plain": [
       "<Figure size 432x288 with 1 Axes>"
      ]
     },
     "metadata": {
      "image/png": {
       "height": 277,
       "width": 394
      },
      "needs_background": "light"
     },
     "output_type": "display_data"
    }
   ],
   "source": [
    "plt.title(\"минуты разговора пользователей тарифов 'Ultra' и 'Smart'\")\n",
    "sns.histplot(x='std', data=df_calls_pivot_work, hue='tariff_name')\n",
    "plt.xlabel(\"стандартное отклонение\")\n",
    "plt.ylabel(\"количество\")\n",
    "plt.show()"
   ]
  },
  {
   "cell_type": "markdown",
   "id": "a65f431f",
   "metadata": {},
   "source": [
    "Из графиков видно, что владельцы тарифа \"Ultra\" разговаривают дольше владельцев тарифа \"Smart\". Хотя в феврале 2018 года этот показатель почти одинаковый. Также можно сказать что есть и те, кто очень мало использует звонки (или вообще их не использует). Вероятно, это обусловлено тем, что \"симки\" приобретают для использования в роутере (вероятнее всего для тарифа \"Ultra\") и для систем основанных на sms-сообщениях (вероятнее всего для тарифа \"Smart\")."
   ]
  },
  {
   "cell_type": "markdown",
   "id": "ee34f856",
   "metadata": {},
   "source": [
    "Сообщения."
   ]
  },
  {
   "cell_type": "code",
   "execution_count": 55,
   "id": "249f21bc",
   "metadata": {},
   "outputs": [
    {
     "data": {
      "image/png": "[encoded data removed]",
      "text/plain": [
       "<Figure size 432x288 with 1 Axes>"
      ]
     },
     "metadata": {
      "image/png": {
       "height": 277,
       "width": 382
      },
      "needs_background": "light"
     },
     "output_type": "display_data"
    }
   ],
   "source": [
    "plt.title(\"сообщения пользователей тарифов 'Ultra' и 'Smart'\")\n",
    "sns.barplot(x='month', y='sms', data=df_work, ci=None, hue='tariff_name')\n",
    "plt.xlabel(\"месяц\")\n",
    "plt.ylabel(\"сообщения\")\n",
    "plt.show()"
   ]
  },
  {
   "cell_type": "code",
   "execution_count": 56,
   "id": "a8497303",
   "metadata": {},
   "outputs": [
    {
     "data": {
      "image/png": "[encoded data removed]",
      "text/plain": [
       "<Figure size 432x288 with 1 Axes>"
      ]
     },
     "metadata": {
      "image/png": {
       "height": 277,
       "width": 388
      },
      "needs_background": "light"
     },
     "output_type": "display_data"
    }
   ],
   "source": [
    "plt.title(\"сообщения пользователей тарифов 'Ultra' и 'Smart'\")\n",
    "sns.histplot(x='sms', data=df_work, hue='tariff_name')\n",
    "plt.xlabel(\"сообщения\")\n",
    "plt.ylabel(\"количество\")\n",
    "plt.show()"
   ]
  },
  {
   "cell_type": "code",
   "execution_count": 57,
   "id": "38bef9a4",
   "metadata": {},
   "outputs": [],
   "source": [
    "df_sms_pivot_work = df_work.pivot_table(index=['tariff_name','month'], values='sms', aggfunc=[np.mean, np.var, np.std]).reset_index()"
   ]
  },
  {
   "cell_type": "code",
   "execution_count": 58,
   "id": "acd7e1c1",
   "metadata": {},
   "outputs": [],
   "source": [
    "df_sms_pivot_work.columns = ['tariff_name', 'month', 'mean', 'var', 'std']"
   ]
  },
  {
   "cell_type": "code",
   "execution_count": 59,
   "id": "1391cb9e",
   "metadata": {},
   "outputs": [
    {
     "data": {
      "text/html": [
       "<div>\n",
       "<style scoped>\n",
       "    .dataframe tbody tr th:only-of-type {\n",
       "        vertical-align: middle;\n",
       "    }\n",
       "\n",
       "    .dataframe tbody tr th {\n",
       "        vertical-align: top;\n",
       "    }\n",
       "\n",
       "    .dataframe thead th {\n",
       "        text-align: right;\n",
       "    }\n",
       "</style>\n",
       "<table border=\"1\" class=\"dataframe\">\n",
       "  <thead>\n",
       "    <tr style=\"text-align: right;\">\n",
       "      <th></th>\n",
       "      <th>tariff_name</th>\n",
       "      <th>month</th>\n",
       "      <th>mean</th>\n",
       "      <th>var</th>\n",
       "      <th>std</th>\n",
       "    </tr>\n",
       "  </thead>\n",
       "  <tbody>\n",
       "    <tr>\n",
       "      <th>0</th>\n",
       "      <td>smart</td>\n",
       "      <td>1</td>\n",
       "      <td>18.235294</td>\n",
       "      <td>262.367201</td>\n",
       "      <td>16.197753</td>\n",
       "    </tr>\n",
       "    <tr>\n",
       "      <th>1</th>\n",
       "      <td>smart</td>\n",
       "      <td>2</td>\n",
       "      <td>24.086207</td>\n",
       "      <td>473.097701</td>\n",
       "      <td>21.750809</td>\n",
       "    </tr>\n",
       "    <tr>\n",
       "      <th>2</th>\n",
       "      <td>smart</td>\n",
       "      <td>3</td>\n",
       "      <td>31.857143</td>\n",
       "      <td>718.492481</td>\n",
       "      <td>26.804710</td>\n",
       "    </tr>\n",
       "    <tr>\n",
       "      <th>3</th>\n",
       "      <td>smart</td>\n",
       "      <td>4</td>\n",
       "      <td>30.741071</td>\n",
       "      <td>602.139559</td>\n",
       "      <td>24.538532</td>\n",
       "    </tr>\n",
       "    <tr>\n",
       "      <th>4</th>\n",
       "      <td>smart</td>\n",
       "      <td>5</td>\n",
       "      <td>33.773050</td>\n",
       "      <td>730.990983</td>\n",
       "      <td>27.036845</td>\n",
       "    </tr>\n",
       "    <tr>\n",
       "      <th>5</th>\n",
       "      <td>smart</td>\n",
       "      <td>6</td>\n",
       "      <td>33.402439</td>\n",
       "      <td>806.806374</td>\n",
       "      <td>28.404337</td>\n",
       "    </tr>\n",
       "    <tr>\n",
       "      <th>6</th>\n",
       "      <td>smart</td>\n",
       "      <td>7</td>\n",
       "      <td>33.751244</td>\n",
       "      <td>799.887811</td>\n",
       "      <td>28.282288</td>\n",
       "    </tr>\n",
       "    <tr>\n",
       "      <th>7</th>\n",
       "      <td>smart</td>\n",
       "      <td>8</td>\n",
       "      <td>33.638298</td>\n",
       "      <td>838.257501</td>\n",
       "      <td>28.952677</td>\n",
       "    </tr>\n",
       "    <tr>\n",
       "      <th>8</th>\n",
       "      <td>smart</td>\n",
       "      <td>9</td>\n",
       "      <td>33.638462</td>\n",
       "      <td>790.617820</td>\n",
       "      <td>28.117927</td>\n",
       "    </tr>\n",
       "    <tr>\n",
       "      <th>9</th>\n",
       "      <td>smart</td>\n",
       "      <td>10</td>\n",
       "      <td>33.765306</td>\n",
       "      <td>816.111966</td>\n",
       "      <td>28.567673</td>\n",
       "    </tr>\n",
       "    <tr>\n",
       "      <th>10</th>\n",
       "      <td>smart</td>\n",
       "      <td>11</td>\n",
       "      <td>34.075949</td>\n",
       "      <td>805.937071</td>\n",
       "      <td>28.389031</td>\n",
       "    </tr>\n",
       "    <tr>\n",
       "      <th>11</th>\n",
       "      <td>smart</td>\n",
       "      <td>12</td>\n",
       "      <td>35.994065</td>\n",
       "      <td>934.952346</td>\n",
       "      <td>30.576990</td>\n",
       "    </tr>\n",
       "    <tr>\n",
       "      <th>12</th>\n",
       "      <td>ultra</td>\n",
       "      <td>1</td>\n",
       "      <td>33.777778</td>\n",
       "      <td>940.694444</td>\n",
       "      <td>30.670742</td>\n",
       "    </tr>\n",
       "    <tr>\n",
       "      <th>13</th>\n",
       "      <td>ultra</td>\n",
       "      <td>2</td>\n",
       "      <td>21.958333</td>\n",
       "      <td>716.824275</td>\n",
       "      <td>26.773574</td>\n",
       "    </tr>\n",
       "    <tr>\n",
       "      <th>14</th>\n",
       "      <td>ultra</td>\n",
       "      <td>3</td>\n",
       "      <td>32.297297</td>\n",
       "      <td>1732.381381</td>\n",
       "      <td>41.621886</td>\n",
       "    </tr>\n",
       "    <tr>\n",
       "      <th>15</th>\n",
       "      <td>ultra</td>\n",
       "      <td>4</td>\n",
       "      <td>31.563636</td>\n",
       "      <td>1407.287542</td>\n",
       "      <td>37.513831</td>\n",
       "    </tr>\n",
       "    <tr>\n",
       "      <th>16</th>\n",
       "      <td>ultra</td>\n",
       "      <td>5</td>\n",
       "      <td>37.850746</td>\n",
       "      <td>1624.644052</td>\n",
       "      <td>40.306874</td>\n",
       "    </tr>\n",
       "    <tr>\n",
       "      <th>17</th>\n",
       "      <td>ultra</td>\n",
       "      <td>6</td>\n",
       "      <td>41.726190</td>\n",
       "      <td>1986.297619</td>\n",
       "      <td>44.567899</td>\n",
       "    </tr>\n",
       "    <tr>\n",
       "      <th>18</th>\n",
       "      <td>ultra</td>\n",
       "      <td>7</td>\n",
       "      <td>49.846154</td>\n",
       "      <td>2372.042735</td>\n",
       "      <td>48.703621</td>\n",
       "    </tr>\n",
       "    <tr>\n",
       "      <th>19</th>\n",
       "      <td>ultra</td>\n",
       "      <td>8</td>\n",
       "      <td>48.439252</td>\n",
       "      <td>2171.739199</td>\n",
       "      <td>46.601923</td>\n",
       "    </tr>\n",
       "    <tr>\n",
       "      <th>20</th>\n",
       "      <td>ultra</td>\n",
       "      <td>9</td>\n",
       "      <td>52.286957</td>\n",
       "      <td>2152.855530</td>\n",
       "      <td>46.398874</td>\n",
       "    </tr>\n",
       "    <tr>\n",
       "      <th>21</th>\n",
       "      <td>ultra</td>\n",
       "      <td>10</td>\n",
       "      <td>58.430894</td>\n",
       "      <td>2697.181661</td>\n",
       "      <td>51.934398</td>\n",
       "    </tr>\n",
       "    <tr>\n",
       "      <th>22</th>\n",
       "      <td>ultra</td>\n",
       "      <td>11</td>\n",
       "      <td>55.791045</td>\n",
       "      <td>2476.948491</td>\n",
       "      <td>49.768951</td>\n",
       "    </tr>\n",
       "    <tr>\n",
       "      <th>23</th>\n",
       "      <td>ultra</td>\n",
       "      <td>12</td>\n",
       "      <td>60.611511</td>\n",
       "      <td>2681.978417</td>\n",
       "      <td>51.787821</td>\n",
       "    </tr>\n",
       "  </tbody>\n",
       "</table>\n",
       "</div>"
      ],
      "text/plain": [
       "   tariff_name  month       mean          var        std\n",
       "0        smart      1  18.235294   262.367201  16.197753\n",
       "1        smart      2  24.086207   473.097701  21.750809\n",
       "2        smart      3  31.857143   718.492481  26.804710\n",
       "3        smart      4  30.741071   602.139559  24.538532\n",
       "4        smart      5  33.773050   730.990983  27.036845\n",
       "5        smart      6  33.402439   806.806374  28.404337\n",
       "6        smart      7  33.751244   799.887811  28.282288\n",
       "7        smart      8  33.638298   838.257501  28.952677\n",
       "8        smart      9  33.638462   790.617820  28.117927\n",
       "9        smart     10  33.765306   816.111966  28.567673\n",
       "10       smart     11  34.075949   805.937071  28.389031\n",
       "11       smart     12  35.994065   934.952346  30.576990\n",
       "12       ultra      1  33.777778   940.694444  30.670742\n",
       "13       ultra      2  21.958333   716.824275  26.773574\n",
       "14       ultra      3  32.297297  1732.381381  41.621886\n",
       "15       ultra      4  31.563636  1407.287542  37.513831\n",
       "16       ultra      5  37.850746  1624.644052  40.306874\n",
       "17       ultra      6  41.726190  1986.297619  44.567899\n",
       "18       ultra      7  49.846154  2372.042735  48.703621\n",
       "19       ultra      8  48.439252  2171.739199  46.601923\n",
       "20       ultra      9  52.286957  2152.855530  46.398874\n",
       "21       ultra     10  58.430894  2697.181661  51.934398\n",
       "22       ultra     11  55.791045  2476.948491  49.768951\n",
       "23       ultra     12  60.611511  2681.978417  51.787821"
      ]
     },
     "metadata": {},
     "output_type": "display_data"
    }
   ],
   "source": [
    "display(df_sms_pivot_work)"
   ]
  },
  {
   "cell_type": "code",
   "execution_count": 60,
   "id": "6fadecd3",
   "metadata": {},
   "outputs": [
    {
     "data": {
      "image/png": "[encoded data removed]",
      "text/plain": [
       "<Figure size 432x288 with 1 Axes>"
      ]
     },
     "metadata": {
      "image/png": {
       "height": 278,
       "width": 376
      },
      "needs_background": "light"
     },
     "output_type": "display_data"
    }
   ],
   "source": [
    "plt.title(\"сообщения пользователей тарифов 'Ultra' и 'Smart'\")\n",
    "sns.histplot(x='mean', data=df_sms_pivot_work, hue='tariff_name')\n",
    "plt.xlabel(\"среднее количество сообщений\")\n",
    "plt.ylabel(\"количество\")\n",
    "plt.show()"
   ]
  },
  {
   "cell_type": "code",
   "execution_count": 61,
   "id": "737511bb",
   "metadata": {},
   "outputs": [
    {
     "data": {
      "image/png": "[encoded data removed]",
      "text/plain": [
       "<Figure size 432x288 with 1 Axes>"
      ]
     },
     "metadata": {
      "image/png": {
       "height": 277,
       "width": 376
      },
      "needs_background": "light"
     },
     "output_type": "display_data"
    }
   ],
   "source": [
    "plt.title(\"сообщения пользователей тарифов 'Ultra' и 'Smart'\")\n",
    "sns.histplot(x='var', data=df_sms_pivot_work, hue='tariff_name')\n",
    "plt.xlabel(\"дисперсия\")\n",
    "plt.ylabel(\"количество\")\n",
    "plt.show()"
   ]
  },
  {
   "cell_type": "code",
   "execution_count": 62,
   "id": "0e21149a",
   "metadata": {},
   "outputs": [
    {
     "data": {
      "image/png": "[encoded data removed]",
      "text/plain": [
       "<Figure size 432x288 with 1 Axes>"
      ]
     },
     "metadata": {
      "image/png": {
       "height": 277,
       "width": 376
      },
      "needs_background": "light"
     },
     "output_type": "display_data"
    }
   ],
   "source": [
    "plt.title(\"сообщения пользователей тарифов 'Ultra' и 'Smart'\")\n",
    "sns.histplot(x='std', data=df_sms_pivot_work, hue='tariff_name')\n",
    "plt.xlabel(\"стандартное отклонение\")\n",
    "plt.ylabel(\"количество\")\n",
    "plt.show()"
   ]
  },
  {
   "cell_type": "markdown",
   "id": "7cb1afa2",
   "metadata": {},
   "source": [
    "Ситуация аналогична со звонками. Абоненты тарифа \"Ultra\" пользуются сообщениями чаще, хотя в марте и апреле показатели почти одинаковые а в феврале ниже чем у абонентов \"Smart\". Нулевые показатели тоже присутствуют, что вполне объяснимо появлением множества мессенджеров и sms-сообщениями пользуются всё реже. Интересно, что с мая месяца рост отправленных сообщений отмечается только у пользователей \"Ultra\"."
   ]
  },
  {
   "cell_type": "markdown",
   "id": "85403251",
   "metadata": {},
   "source": [
    "Интернет."
   ]
  },
  {
   "cell_type": "code",
   "execution_count": 63,
   "id": "e5023e33",
   "metadata": {},
   "outputs": [
    {
     "data": {
      "image/png": "[encoded data removed]",
      "text/plain": [
       "<Figure size 432x288 with 1 Axes>"
      ]
     },
     "metadata": {
      "image/png": {
       "height": 277,
       "width": 418
      },
      "needs_background": "light"
     },
     "output_type": "display_data"
    }
   ],
   "source": [
    "plt.title(\"интернет-трафик пользователей тарифов 'Ultra' и 'Smart'\")\n",
    "sns.barplot(x='month', y='internet', data=df_work, ci=None, hue='tariff_name')\n",
    "plt.xlabel(\"месяц\")\n",
    "plt.ylabel(\"объём трафика\")\n",
    "plt.show()"
   ]
  },
  {
   "cell_type": "code",
   "execution_count": 64,
   "id": "9d251610",
   "metadata": {},
   "outputs": [
    {
     "data": {
      "image/png": "[encoded data removed]",
      "text/plain": [
       "<Figure size 432x288 with 1 Axes>"
      ]
     },
     "metadata": {
      "image/png": {
       "height": 277,
       "width": 404
      },
      "needs_background": "light"
     },
     "output_type": "display_data"
    }
   ],
   "source": [
    "plt.title(\"интернет-трафик пользователей тарифов 'Ultra' и 'Smart'\")\n",
    "sns.histplot(x='internet', data=df_work, hue='tariff_name')\n",
    "plt.xlabel(\"объём трафика\")\n",
    "plt.ylabel(\"количество\")\n",
    "plt.show()"
   ]
  },
  {
   "cell_type": "code",
   "execution_count": 65,
   "id": "1c6192ef",
   "metadata": {},
   "outputs": [],
   "source": [
    "df_internet_pivot_work = df_work.pivot_table(index=['tariff_name','month'], values='internet', aggfunc=[np.mean, np.var, np.std]).reset_index()"
   ]
  },
  {
   "cell_type": "code",
   "execution_count": 66,
   "id": "3871a228",
   "metadata": {},
   "outputs": [],
   "source": [
    "df_internet_pivot_work.columns = ['tariff_name', 'month', 'mean', 'var', 'std']"
   ]
  },
  {
   "cell_type": "code",
   "execution_count": 67,
   "id": "f223ed13",
   "metadata": {},
   "outputs": [
    {
     "data": {
      "text/html": [
       "<div>\n",
       "<style scoped>\n",
       "    .dataframe tbody tr th:only-of-type {\n",
       "        vertical-align: middle;\n",
       "    }\n",
       "\n",
       "    .dataframe tbody tr th {\n",
       "        vertical-align: top;\n",
       "    }\n",
       "\n",
       "    .dataframe thead th {\n",
       "        text-align: right;\n",
       "    }\n",
       "</style>\n",
       "<table border=\"1\" class=\"dataframe\">\n",
       "  <thead>\n",
       "    <tr style=\"text-align: right;\">\n",
       "      <th></th>\n",
       "      <th>tariff_name</th>\n",
       "      <th>month</th>\n",
       "      <th>mean</th>\n",
       "      <th>var</th>\n",
       "      <th>std</th>\n",
       "    </tr>\n",
       "  </thead>\n",
       "  <tbody>\n",
       "    <tr>\n",
       "      <th>0</th>\n",
       "      <td>smart</td>\n",
       "      <td>1</td>\n",
       "      <td>8513.717647</td>\n",
       "      <td>4.153391e+07</td>\n",
       "      <td>6444.681014</td>\n",
       "    </tr>\n",
       "    <tr>\n",
       "      <th>1</th>\n",
       "      <td>smart</td>\n",
       "      <td>2</td>\n",
       "      <td>11597.054310</td>\n",
       "      <td>3.902943e+07</td>\n",
       "      <td>6247.353833</td>\n",
       "    </tr>\n",
       "    <tr>\n",
       "      <th>2</th>\n",
       "      <td>smart</td>\n",
       "      <td>3</td>\n",
       "      <td>15104.159091</td>\n",
       "      <td>3.396835e+07</td>\n",
       "      <td>5828.237537</td>\n",
       "    </tr>\n",
       "    <tr>\n",
       "      <th>3</th>\n",
       "      <td>smart</td>\n",
       "      <td>4</td>\n",
       "      <td>13462.180625</td>\n",
       "      <td>3.247004e+07</td>\n",
       "      <td>5698.249092</td>\n",
       "    </tr>\n",
       "    <tr>\n",
       "      <th>4</th>\n",
       "      <td>smart</td>\n",
       "      <td>5</td>\n",
       "      <td>15805.184326</td>\n",
       "      <td>3.573925e+07</td>\n",
       "      <td>5978.231725</td>\n",
       "    </tr>\n",
       "    <tr>\n",
       "      <th>5</th>\n",
       "      <td>smart</td>\n",
       "      <td>6</td>\n",
       "      <td>15794.647988</td>\n",
       "      <td>3.353748e+07</td>\n",
       "      <td>5791.155586</td>\n",
       "    </tr>\n",
       "    <tr>\n",
       "      <th>6</th>\n",
       "      <td>smart</td>\n",
       "      <td>7</td>\n",
       "      <td>15743.150348</td>\n",
       "      <td>3.477643e+07</td>\n",
       "      <td>5897.154446</td>\n",
       "    </tr>\n",
       "    <tr>\n",
       "      <th>7</th>\n",
       "      <td>smart</td>\n",
       "      <td>8</td>\n",
       "      <td>16610.720085</td>\n",
       "      <td>3.128723e+07</td>\n",
       "      <td>5593.499133</td>\n",
       "    </tr>\n",
       "    <tr>\n",
       "      <th>8</th>\n",
       "      <td>smart</td>\n",
       "      <td>9</td>\n",
       "      <td>16303.578808</td>\n",
       "      <td>2.699962e+07</td>\n",
       "      <td>5196.115749</td>\n",
       "    </tr>\n",
       "    <tr>\n",
       "      <th>9</th>\n",
       "      <td>smart</td>\n",
       "      <td>10</td>\n",
       "      <td>16757.122891</td>\n",
       "      <td>3.433239e+07</td>\n",
       "      <td>5859.384492</td>\n",
       "    </tr>\n",
       "    <tr>\n",
       "      <th>10</th>\n",
       "      <td>smart</td>\n",
       "      <td>11</td>\n",
       "      <td>16895.696646</td>\n",
       "      <td>2.851852e+07</td>\n",
       "      <td>5340.273416</td>\n",
       "    </tr>\n",
       "    <tr>\n",
       "      <th>11</th>\n",
       "      <td>smart</td>\n",
       "      <td>12</td>\n",
       "      <td>18113.662047</td>\n",
       "      <td>3.106594e+07</td>\n",
       "      <td>5573.682673</td>\n",
       "    </tr>\n",
       "    <tr>\n",
       "      <th>12</th>\n",
       "      <td>ultra</td>\n",
       "      <td>1</td>\n",
       "      <td>13140.681111</td>\n",
       "      <td>4.713299e+07</td>\n",
       "      <td>6865.346875</td>\n",
       "    </tr>\n",
       "    <tr>\n",
       "      <th>13</th>\n",
       "      <td>ultra</td>\n",
       "      <td>2</td>\n",
       "      <td>11775.937500</td>\n",
       "      <td>1.133084e+08</td>\n",
       "      <td>10644.643911</td>\n",
       "    </tr>\n",
       "    <tr>\n",
       "      <th>14</th>\n",
       "      <td>ultra</td>\n",
       "      <td>3</td>\n",
       "      <td>17535.550270</td>\n",
       "      <td>1.199416e+08</td>\n",
       "      <td>10951.785885</td>\n",
       "    </tr>\n",
       "    <tr>\n",
       "      <th>15</th>\n",
       "      <td>ultra</td>\n",
       "      <td>4</td>\n",
       "      <td>16828.134364</td>\n",
       "      <td>9.445215e+07</td>\n",
       "      <td>9718.649845</td>\n",
       "    </tr>\n",
       "    <tr>\n",
       "      <th>16</th>\n",
       "      <td>ultra</td>\n",
       "      <td>5</td>\n",
       "      <td>19363.152985</td>\n",
       "      <td>1.009243e+08</td>\n",
       "      <td>10046.110214</td>\n",
       "    </tr>\n",
       "    <tr>\n",
       "      <th>17</th>\n",
       "      <td>ultra</td>\n",
       "      <td>6</td>\n",
       "      <td>18924.939286</td>\n",
       "      <td>8.635757e+07</td>\n",
       "      <td>9292.877495</td>\n",
       "    </tr>\n",
       "    <tr>\n",
       "      <th>18</th>\n",
       "      <td>ultra</td>\n",
       "      <td>7</td>\n",
       "      <td>20495.665165</td>\n",
       "      <td>1.013082e+08</td>\n",
       "      <td>10065.197069</td>\n",
       "    </tr>\n",
       "    <tr>\n",
       "      <th>19</th>\n",
       "      <td>ultra</td>\n",
       "      <td>8</td>\n",
       "      <td>19576.054673</td>\n",
       "      <td>1.097582e+08</td>\n",
       "      <td>10476.556411</td>\n",
       "    </tr>\n",
       "    <tr>\n",
       "      <th>20</th>\n",
       "      <td>ultra</td>\n",
       "      <td>9</td>\n",
       "      <td>19204.277130</td>\n",
       "      <td>8.998587e+07</td>\n",
       "      <td>9486.088282</td>\n",
       "    </tr>\n",
       "    <tr>\n",
       "      <th>21</th>\n",
       "      <td>ultra</td>\n",
       "      <td>10</td>\n",
       "      <td>20045.337317</td>\n",
       "      <td>9.610100e+07</td>\n",
       "      <td>9803.111743</td>\n",
       "    </tr>\n",
       "    <tr>\n",
       "      <th>22</th>\n",
       "      <td>ultra</td>\n",
       "      <td>11</td>\n",
       "      <td>19786.812463</td>\n",
       "      <td>9.815894e+07</td>\n",
       "      <td>9907.519251</td>\n",
       "    </tr>\n",
       "    <tr>\n",
       "      <th>23</th>\n",
       "      <td>ultra</td>\n",
       "      <td>12</td>\n",
       "      <td>21793.172590</td>\n",
       "      <td>1.077109e+08</td>\n",
       "      <td>10378.386547</td>\n",
       "    </tr>\n",
       "  </tbody>\n",
       "</table>\n",
       "</div>"
      ],
      "text/plain": [
       "   tariff_name  month          mean           var           std\n",
       "0        smart      1   8513.717647  4.153391e+07   6444.681014\n",
       "1        smart      2  11597.054310  3.902943e+07   6247.353833\n",
       "2        smart      3  15104.159091  3.396835e+07   5828.237537\n",
       "3        smart      4  13462.180625  3.247004e+07   5698.249092\n",
       "4        smart      5  15805.184326  3.573925e+07   5978.231725\n",
       "5        smart      6  15794.647988  3.353748e+07   5791.155586\n",
       "6        smart      7  15743.150348  3.477643e+07   5897.154446\n",
       "7        smart      8  16610.720085  3.128723e+07   5593.499133\n",
       "8        smart      9  16303.578808  2.699962e+07   5196.115749\n",
       "9        smart     10  16757.122891  3.433239e+07   5859.384492\n",
       "10       smart     11  16895.696646  2.851852e+07   5340.273416\n",
       "11       smart     12  18113.662047  3.106594e+07   5573.682673\n",
       "12       ultra      1  13140.681111  4.713299e+07   6865.346875\n",
       "13       ultra      2  11775.937500  1.133084e+08  10644.643911\n",
       "14       ultra      3  17535.550270  1.199416e+08  10951.785885\n",
       "15       ultra      4  16828.134364  9.445215e+07   9718.649845\n",
       "16       ultra      5  19363.152985  1.009243e+08  10046.110214\n",
       "17       ultra      6  18924.939286  8.635757e+07   9292.877495\n",
       "18       ultra      7  20495.665165  1.013082e+08  10065.197069\n",
       "19       ultra      8  19576.054673  1.097582e+08  10476.556411\n",
       "20       ultra      9  19204.277130  8.998587e+07   9486.088282\n",
       "21       ultra     10  20045.337317  9.610100e+07   9803.111743\n",
       "22       ultra     11  19786.812463  9.815894e+07   9907.519251\n",
       "23       ultra     12  21793.172590  1.077109e+08  10378.386547"
      ]
     },
     "metadata": {},
     "output_type": "display_data"
    }
   ],
   "source": [
    "display(df_internet_pivot_work)"
   ]
  },
  {
   "cell_type": "code",
   "execution_count": 68,
   "id": "11576090",
   "metadata": {},
   "outputs": [
    {
     "data": {
      "image/png": "[encoded data removed]",
      "text/plain": [
       "<Figure size 432x288 with 1 Axes>"
      ]
     },
     "metadata": {
      "image/png": {
       "height": 277,
       "width": 391
      },
      "needs_background": "light"
     },
     "output_type": "display_data"
    }
   ],
   "source": [
    "plt.title(\"интернет-трафик пользователей тарифов 'Ultra' и 'Smart'\")\n",
    "sns.histplot(x='mean', data=df_internet_pivot_work, hue='tariff_name')\n",
    "plt.xlabel(\"среднее количество трафика\")\n",
    "plt.ylabel(\"количество\")\n",
    "plt.show()"
   ]
  },
  {
   "cell_type": "code",
   "execution_count": 69,
   "id": "2aa30f3e",
   "metadata": {},
   "outputs": [
    {
     "data": {
      "image/png": "[encoded data removed]",
      "text/plain": [
       "<Figure size 432x288 with 1 Axes>"
      ]
     },
     "metadata": {
      "image/png": {
       "height": 277,
       "width": 398
      },
      "needs_background": "light"
     },
     "output_type": "display_data"
    }
   ],
   "source": [
    "plt.title(\"интернет-трафик пользователей тарифов 'Ultra' и 'Smart'\")\n",
    "sns.histplot(x='var', data=df_internet_pivot_work, hue='tariff_name')\n",
    "plt.xlabel(\"дисперсия\")\n",
    "plt.ylabel(\"количество\")\n",
    "plt.show()"
   ]
  },
  {
   "cell_type": "code",
   "execution_count": 70,
   "id": "2298da45",
   "metadata": {},
   "outputs": [
    {
     "data": {
      "image/png": "[encoded data removed]",
      "text/plain": [
       "<Figure size 432x288 with 1 Axes>"
      ]
     },
     "metadata": {
      "image/png": {
       "height": 277,
       "width": 398
      },
      "needs_background": "light"
     },
     "output_type": "display_data"
    }
   ],
   "source": [
    "plt.title(\"интернет-трафик пользователей тарифов 'Ultra' и 'Smart'\")\n",
    "sns.histplot(x='std', data=df_internet_pivot_work, hue='tariff_name')\n",
    "plt.xlabel(\"стандартное отклонение\")\n",
    "plt.ylabel(\"количество\")\n",
    "plt.show()"
   ]
  },
  {
   "cell_type": "markdown",
   "id": "cb6043dd",
   "metadata": {},
   "source": [
    "Похожая ситуация. Владельцы \"Ultra\" используют больше интернета. Февраль почти одинаково. А вот нулевых показателей почти нет. Интернет нужен почти всем!\n",
    "\n",
    "Итог:\n",
    "\n",
    "* владельцы тарифа \"Ultra\" больше используют услуги сотового оператора\n",
    "* нулевые показатели в звонках и sms есть у всех тарифных планов, у интернета их гораздо меньше\n",
    "* в феврале 2018 года владельцы обоих тарифов использовали услуги почти одинаково.\n",
    "* тенденция на пользование услугами оператора положительная. На протяжении года все показатели растут."
   ]
  },
  {
   "cell_type": "markdown",
   "id": "5957daa2",
   "metadata": {},
   "source": [
    "Шаг 4. Проверьте гипотезы\n",
    "* средняя выручка пользователей тарифов «Ультра» и «Смарт» различаются;\n",
    "* средняя выручка пользователей из Москвы отличается от выручки пользователей из других регионов.\n",
    "* Пороговое значение alpha задайте самостоятельно.\n",
    "\n",
    "Поясните:\n",
    "* как вы формулировали нулевую и альтернативную гипотезы;\n",
    "* какой критерий использовали для проверки гипотез и почему.\n"
   ]
  },
  {
   "cell_type": "markdown",
   "id": "7114a9b8",
   "metadata": {},
   "source": [
    "Нулевая гипотеза - средняя выручки двух тарифов одинаковы.\n",
    "\n",
    "Альтернативная - средние выручки двух тарифов различаются.\n",
    "\n",
    "Гипотеза двусторонняя.\n",
    "\n",
    "Пороговое значение alpha определяем в 5%. "
   ]
  },
  {
   "cell_type": "code",
   "execution_count": 71,
   "id": "08570884",
   "metadata": {},
   "outputs": [],
   "source": [
    "groups_smart = df_work.query('tariff_name==\"smart\"')"
   ]
  },
  {
   "cell_type": "code",
   "execution_count": 72,
   "id": "445b5e0b",
   "metadata": {},
   "outputs": [],
   "source": [
    "groups_ultra = df_work.query('tariff_name==\"ultra\"')"
   ]
  },
  {
   "cell_type": "code",
   "execution_count": 73,
   "id": "b529ae27",
   "metadata": {},
   "outputs": [
    {
     "name": "stdout",
     "output_type": "stream",
     "text": [
      "p-значение:  1.4229814360764067e-160\n",
      "Отвергаем нулевую гипотезу\n"
     ]
    }
   ],
   "source": [
    "alpha = .05\n",
    "results = scipy.stats.ttest_ind(groups_smart['price_month'], groups_ultra['price_month'])\n",
    "print('p-значение: ', results.pvalue)\n",
    "if results.pvalue<alpha:\n",
    "    print(\"Отвергаем нулевую гипотезу\")\n",
    "else:\n",
    "    print(\"Не получилось отвергнуть нулевую гипотезу\")"
   ]
  },
  {
   "cell_type": "markdown",
   "id": "20d6a686",
   "metadata": {},
   "source": [
    "Нулевая гипотеза - средняя выручка пользователей из Москвы и из других регионов одинаковы.\n",
    "\n",
    "Альтернативная - средняя выручка пользователей из Москвы отличается от выручки пользователей из других регионов.\n",
    "\n",
    "Гипотеза двусторонняя. \n",
    "\n",
    "Пороговое значение alpha определяем в 5%."
   ]
  },
  {
   "cell_type": "code",
   "execution_count": 74,
   "id": "e98d0fef",
   "metadata": {},
   "outputs": [],
   "source": [
    "groups_moscow = df_work.query('city == \"Москва\"')"
   ]
  },
  {
   "cell_type": "code",
   "execution_count": 75,
   "id": "ea545c71",
   "metadata": {},
   "outputs": [],
   "source": [
    "groups_no_moscow = df_work.query('city != \"Москва\"')"
   ]
  },
  {
   "cell_type": "code",
   "execution_count": 76,
   "id": "2e6db9f6",
   "metadata": {},
   "outputs": [
    {
     "name": "stdout",
     "output_type": "stream",
     "text": [
      "p-значение:  0.5440152911670223\n",
      "Не получилось отвергнуть нулевую гипотезу\n"
     ]
    }
   ],
   "source": [
    "alpha = .05\n",
    "results = scipy.stats.ttest_ind(groups_moscow['price_month'], groups_no_moscow['price_month'])\n",
    "print('p-значение: ', results.pvalue)\n",
    "if results.pvalue<alpha:\n",
    "    print(\"Отвергаем нулевую гипотезу\")\n",
    "else:\n",
    "    print(\"Не получилось отвергнуть нулевую гипотезу\")"
   ]
  },
  {
   "cell_type": "markdown",
   "id": "f74d25af",
   "metadata": {},
   "source": [
    "Вывод после проверки гипотез:\n",
    "\n",
    "* средние выручки двух тарифов различаются.\n",
    "* средние выручки пользователей из Москвы и из других регионов одинаковы."
   ]
  },
  {
   "cell_type": "markdown",
   "id": "3f45344f",
   "metadata": {},
   "source": [
    "Шаг 5. Напишите общий вывод"
   ]
  },
  {
   "cell_type": "markdown",
   "id": "45456ed1",
   "metadata": {},
   "source": [
    "В ходе исследования установлено следующее:\n",
    "\n",
    "* владельцы тарифа \"Ultra\" больше используют услуги сотового оператора, чем владельцы тарифа \"Smart\".\n",
    "* средняя выручка компании «Мегалайн» от владельцев тарифа \"Ultra\" и владельцев тарифа \"Smart\" различается.\n",
    "* нулевые показатели в звонках и sms есть у всех тарифных планов, у интернета их гораздо меньше.\n",
    "* в феврале 2018 года владельцы обоих тарифов использовали услуги почти одинаково.\n",
    "* средняя выручка пользователей всех тарифов компании «Мегалайн» из Москвы и из других регионов одинаковы.\n",
    "* тенденция на пользование услугами оператора положительная. На протяжении года все показатели растут.\n",
    "\n",
    "Компании «Мегалайн» посоветую направить рекламную деятельность на продвижение тарифа \"Ultra\" как более прибыльного по отношению к тарифу \"Smart\". Применительно ко всем регионам России, а не только к Москве."
   ]
  }
 ],
 "metadata": {
  "ExecuteTimeLog": [
   {
    "duration": 858,
    "start_time": "2022-03-31T21:34:36.904Z"
   },
   {
    "duration": 4,
    "start_time": "2022-03-31T21:34:37.765Z"
   },
   {
    "duration": 273,
    "start_time": "2022-03-31T21:34:37.783Z"
   },
   {
    "duration": 26,
    "start_time": "2022-03-31T21:34:38.058Z"
   },
   {
    "duration": 33,
    "start_time": "2022-03-31T21:34:38.091Z"
   },
   {
    "duration": 34,
    "start_time": "2022-03-31T21:34:38.126Z"
   },
   {
    "duration": 83,
    "start_time": "2022-03-31T21:34:38.182Z"
   },
   {
    "duration": 16,
    "start_time": "2022-03-31T21:34:38.268Z"
   },
   {
    "duration": 230,
    "start_time": "2022-03-31T21:34:38.289Z"
   },
   {
    "duration": 12,
    "start_time": "2022-03-31T21:34:38.523Z"
   },
   {
    "duration": 54,
    "start_time": "2022-03-31T21:34:38.537Z"
   },
   {
    "duration": 28,
    "start_time": "2022-03-31T21:34:38.593Z"
   },
   {
    "duration": 70,
    "start_time": "2022-03-31T21:34:38.624Z"
   },
   {
    "duration": 174,
    "start_time": "2022-03-31T21:34:38.696Z"
   },
   {
    "duration": 19,
    "start_time": "2022-03-31T21:34:38.872Z"
   },
   {
    "duration": 30,
    "start_time": "2022-03-31T21:34:38.893Z"
   },
   {
    "duration": 26,
    "start_time": "2022-03-31T21:34:38.926Z"
   },
   {
    "duration": 74,
    "start_time": "2022-03-31T21:34:38.954Z"
   },
   {
    "duration": 105,
    "start_time": "2022-03-31T21:34:39.030Z"
   },
   {
    "duration": 12,
    "start_time": "2022-03-31T21:34:39.138Z"
   },
   {
    "duration": 20,
    "start_time": "2022-03-31T21:34:39.152Z"
   },
   {
    "duration": 124,
    "start_time": "2022-03-31T21:34:39.175Z"
   },
   {
    "duration": 16,
    "start_time": "2022-03-31T21:34:39.301Z"
   },
   {
    "duration": 21,
    "start_time": "2022-03-31T21:34:39.320Z"
   },
   {
    "duration": 16,
    "start_time": "2022-03-31T21:34:39.344Z"
   },
   {
    "duration": 35,
    "start_time": "2022-03-31T21:34:39.362Z"
   },
   {
    "duration": 74,
    "start_time": "2022-03-31T21:34:39.400Z"
   },
   {
    "duration": 39,
    "start_time": "2022-03-31T21:34:39.486Z"
   },
   {
    "duration": 32,
    "start_time": "2022-03-31T21:34:39.527Z"
   },
   {
    "duration": 55,
    "start_time": "2022-03-31T21:34:39.561Z"
   },
   {
    "duration": 20,
    "start_time": "2022-03-31T21:34:39.618Z"
   },
   {
    "duration": 5,
    "start_time": "2022-03-31T21:34:39.640Z"
   },
   {
    "duration": 43,
    "start_time": "2022-03-31T21:34:39.647Z"
   },
   {
    "duration": 6,
    "start_time": "2022-03-31T21:34:39.693Z"
   },
   {
    "duration": 10,
    "start_time": "2022-03-31T21:34:39.701Z"
   },
   {
    "duration": 11,
    "start_time": "2022-03-31T21:34:39.713Z"
   },
   {
    "duration": 20,
    "start_time": "2022-03-31T21:34:39.727Z"
   },
   {
    "duration": 43,
    "start_time": "2022-03-31T21:34:39.749Z"
   },
   {
    "duration": 5,
    "start_time": "2022-03-31T21:34:39.795Z"
   },
   {
    "duration": 12,
    "start_time": "2022-03-31T21:34:39.803Z"
   },
   {
    "duration": 11,
    "start_time": "2022-03-31T21:34:39.816Z"
   },
   {
    "duration": 7,
    "start_time": "2022-03-31T21:34:39.829Z"
   },
   {
    "duration": 9,
    "start_time": "2022-03-31T21:34:39.838Z"
   },
   {
    "duration": 205,
    "start_time": "2022-03-31T21:34:39.849Z"
   },
   {
    "duration": 26,
    "start_time": "2022-03-31T21:34:40.056Z"
   },
   {
    "duration": 592,
    "start_time": "2022-03-31T21:34:40.084Z"
   },
   {
    "duration": 425,
    "start_time": "2022-03-31T21:34:40.678Z"
   },
   {
    "duration": 534,
    "start_time": "2022-03-31T21:34:41.106Z"
   },
   {
    "duration": 56,
    "start_time": "2022-03-31T21:34:41.642Z"
   },
   {
    "duration": 4,
    "start_time": "2022-03-31T21:34:41.701Z"
   },
   {
    "duration": 28,
    "start_time": "2022-03-31T21:34:41.707Z"
   },
   {
    "duration": 363,
    "start_time": "2022-03-31T21:34:41.738Z"
   },
   {
    "duration": 332,
    "start_time": "2022-03-31T21:34:42.103Z"
   },
   {
    "duration": 364,
    "start_time": "2022-03-31T21:34:42.438Z"
   },
   {
    "duration": 420,
    "start_time": "2022-03-31T21:34:42.804Z"
   },
   {
    "duration": 541,
    "start_time": "2022-03-31T21:34:43.227Z"
   },
   {
    "duration": 51,
    "start_time": "2022-03-31T21:34:43.771Z"
   },
   {
    "duration": 4,
    "start_time": "2022-03-31T21:34:43.824Z"
   },
   {
    "duration": 20,
    "start_time": "2022-03-31T21:34:43.830Z"
   },
   {
    "duration": 345,
    "start_time": "2022-03-31T21:34:43.852Z"
   },
   {
    "duration": 321,
    "start_time": "2022-03-31T21:34:44.200Z"
   },
   {
    "duration": 355,
    "start_time": "2022-03-31T21:34:44.523Z"
   },
   {
    "duration": 413,
    "start_time": "2022-03-31T21:34:44.882Z"
   },
   {
    "duration": 519,
    "start_time": "2022-03-31T21:34:45.298Z"
   },
   {
    "duration": 33,
    "start_time": "2022-03-31T21:34:45.820Z"
   },
   {
    "duration": 5,
    "start_time": "2022-03-31T21:34:45.856Z"
   },
   {
    "duration": 22,
    "start_time": "2022-03-31T21:34:45.882Z"
   },
   {
    "duration": 370,
    "start_time": "2022-03-31T21:34:45.907Z"
   },
   {
    "duration": 332,
    "start_time": "2022-03-31T21:34:46.283Z"
   },
   {
    "duration": 348,
    "start_time": "2022-03-31T21:34:46.617Z"
   },
   {
    "duration": 4,
    "start_time": "2022-03-31T21:34:46.967Z"
   },
   {
    "duration": 13,
    "start_time": "2022-03-31T21:34:46.982Z"
   },
   {
    "duration": 9,
    "start_time": "2022-03-31T21:34:46.997Z"
   },
   {
    "duration": 8,
    "start_time": "2022-03-31T21:34:47.008Z"
   },
   {
    "duration": 8,
    "start_time": "2022-03-31T21:34:47.018Z"
   },
   {
    "duration": 128,
    "start_time": "2022-03-31T21:34:47.028Z"
   },
   {
    "duration": 12,
    "start_time": "2022-03-31T21:34:47.158Z"
   },
   {
    "duration": 148,
    "start_time": "2022-03-31T21:42:05.044Z"
   },
   {
    "duration": 10,
    "start_time": "2022-03-31T21:42:15.395Z"
   },
   {
    "duration": 257,
    "start_time": "2022-03-31T21:43:33.996Z"
   },
   {
    "duration": 575,
    "start_time": "2022-03-31T21:44:54.423Z"
   },
   {
    "duration": 261,
    "start_time": "2022-03-31T21:45:45.755Z"
   },
   {
    "duration": 539,
    "start_time": "2022-03-31T21:46:41.181Z"
   },
   {
    "duration": 447,
    "start_time": "2022-03-31T21:47:06.495Z"
   },
   {
    "duration": 531,
    "start_time": "2022-03-31T21:47:11.299Z"
   }
  ],
  "kernelspec": {
   "display_name": "Python 3 (ipykernel)",
   "language": "python",
   "name": "python3"
  },
  "language_info": {
   "codemirror_mode": {
    "name": "ipython",
    "version": 3
   },
   "file_extension": ".py",
   "mimetype": "text/x-python",
   "name": "python",
   "nbconvert_exporter": "python",
   "pygments_lexer": "ipython3",
   "version": "3.9.7"
  },
  "toc": {
   "base_numbering": 1,
   "nav_menu": {},
   "number_sections": true,
   "sideBar": true,
   "skip_h1_title": true,
   "title_cell": "Table of Contents",
   "title_sidebar": "Contents",
   "toc_cell": false,
   "toc_position": {},
   "toc_section_display": true,
   "toc_window_display": false
  }
 },
 "nbformat": 4,
 "nbformat_minor": 5
}
